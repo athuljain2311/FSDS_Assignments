{
 "cells": [
  {
   "cell_type": "markdown",
   "id": "16b04b9d",
   "metadata": {},
   "source": [
    "### Question 1"
   ]
  },
  {
   "cell_type": "markdown",
   "id": "617a252f",
   "metadata": {},
   "source": [
    "The try-except blocks are used to handle exceptions in Python"
   ]
  },
  {
   "cell_type": "markdown",
   "id": "2c8983b0",
   "metadata": {},
   "source": [
    "### Question 2"
   ]
  },
  {
   "cell_type": "markdown",
   "id": "f5813dd6",
   "metadata": {},
   "source": [
    "* Syntax of try-except"
   ]
  },
  {
   "cell_type": "code",
   "execution_count": 28,
   "id": "4142009e",
   "metadata": {},
   "outputs": [],
   "source": [
    "try:\n",
    "    # BODY OF THE TRY BLOCK\n",
    "    pass\n",
    "except:\n",
    "    # BODY OF THE EXCEPT BLOCK\n",
    "    pass"
   ]
  },
  {
   "cell_type": "markdown",
   "id": "dd05ccfc",
   "metadata": {},
   "source": [
    "### Question 3"
   ]
  },
  {
   "cell_type": "markdown",
   "id": "e4347378",
   "metadata": {},
   "source": [
    "If an exception is raised inside the try block and there is no matching except block, the raised exception cannot be handled."
   ]
  },
  {
   "cell_type": "code",
   "execution_count": 29,
   "id": "1c9423de",
   "metadata": {},
   "outputs": [
    {
     "ename": "ZeroDivisionError",
     "evalue": "division by zero",
     "output_type": "error",
     "traceback": [
      "\u001b[1;31m---------------------------------------------------------------------------\u001b[0m",
      "\u001b[1;31mZeroDivisionError\u001b[0m                         Traceback (most recent call last)",
      "Cell \u001b[1;32mIn[29], line 2\u001b[0m\n\u001b[0;32m      1\u001b[0m \u001b[38;5;28;01mtry\u001b[39;00m:\n\u001b[1;32m----> 2\u001b[0m     \u001b[38;5;28mprint\u001b[39m(\u001b[38;5;241;43m1\u001b[39;49m\u001b[38;5;241;43m/\u001b[39;49m\u001b[38;5;241;43m0\u001b[39;49m)\n\u001b[0;32m      3\u001b[0m \u001b[38;5;28;01mexcept\u001b[39;00m \u001b[38;5;167;01mEOFError\u001b[39;00m:\n\u001b[0;32m      4\u001b[0m     \u001b[38;5;28mprint\u001b[39m(\u001b[38;5;124m'\u001b[39m\u001b[38;5;124mEOFError\u001b[39m\u001b[38;5;124m'\u001b[39m)\n",
      "\u001b[1;31mZeroDivisionError\u001b[0m: division by zero"
     ]
    }
   ],
   "source": [
    "try:\n",
    "    print(1/0)\n",
    "except EOFError:\n",
    "    print('EOFError')"
   ]
  },
  {
   "cell_type": "markdown",
   "id": "9923e179",
   "metadata": {},
   "source": [
    "### Question 4"
   ]
  },
  {
   "cell_type": "markdown",
   "id": "c3006796",
   "metadata": {},
   "source": [
    "* A bare except block handles all kinds of exceptions in the try block whereas if an exception is specified in the except block, only those specific exceptions will be handled by that except block\n",
    "\n",
    "* A bare except block will be generic as we will not be able to get any specific information about the exception that has occured"
   ]
  },
  {
   "cell_type": "code",
   "execution_count": 33,
   "id": "f9f259fd",
   "metadata": {},
   "outputs": [
    {
     "name": "stdout",
     "output_type": "stream",
     "text": [
      "Error\n"
     ]
    }
   ],
   "source": [
    "try:\n",
    "    arr = [1,2,3]\n",
    "    print(arr[4])\n",
    "except ZeroDivisionError: # THIS BLOCK OF CODE IS NOT EXECUTED IN THIS CASE\n",
    "    print('ZeroDivisionError')\n",
    "except:\n",
    "    print('Error')"
   ]
  },
  {
   "cell_type": "markdown",
   "id": "5c341023",
   "metadata": {},
   "source": [
    "* Here, we get more information about the exception"
   ]
  },
  {
   "cell_type": "code",
   "execution_count": 34,
   "id": "9bbedd07",
   "metadata": {
    "scrolled": true
   },
   "outputs": [
    {
     "name": "stdout",
     "output_type": "stream",
     "text": [
      "list index out of range\n"
     ]
    }
   ],
   "source": [
    "try:\n",
    "    arr = [1,2,3]\n",
    "    print(arr[4])\n",
    "except ZeroDivisionError: # THIS BLOCK OF CODE IS NOT EXECUTED IN THIS CASE\n",
    "    print('ZeroDivisionError')\n",
    "except Exception as e:\n",
    "    print(e)"
   ]
  },
  {
   "cell_type": "markdown",
   "id": "c93ddd04",
   "metadata": {},
   "source": [
    "### Question 5"
   ]
  },
  {
   "cell_type": "markdown",
   "id": "213ed18e",
   "metadata": {},
   "source": [
    "try-except blocks can be nested"
   ]
  },
  {
   "cell_type": "code",
   "execution_count": 35,
   "id": "88f448b5",
   "metadata": {},
   "outputs": [
    {
     "name": "stdout",
     "output_type": "stream",
     "text": [
      "inner try\n",
      "inner except\n"
     ]
    }
   ],
   "source": [
    "try:\n",
    "    print(1/0)\n",
    "except:\n",
    "    try:\n",
    "        print('inner try')\n",
    "        print(1/0)\n",
    "    except:\n",
    "        print('inner except')"
   ]
  },
  {
   "cell_type": "markdown",
   "id": "dae6b217",
   "metadata": {},
   "source": [
    "### Question 6"
   ]
  },
  {
   "cell_type": "markdown",
   "id": "87ee18dd",
   "metadata": {},
   "source": [
    "There can be multiple except blocks (1 or more except blocks can be coupled with a try block). They are usually ordered from most specific to least specific"
   ]
  },
  {
   "cell_type": "code",
   "execution_count": 39,
   "id": "c9cd54b5",
   "metadata": {},
   "outputs": [
    {
     "name": "stdout",
     "output_type": "stream",
     "text": [
      "list index out of range\n"
     ]
    }
   ],
   "source": [
    "try:\n",
    "    arr = [1,2,3]\n",
    "    print(arr[4])\n",
    "except ZeroDivisionError: # THIS BLOCK OF CODE IS NOT EXECUTED IN THIS CASE\n",
    "    print('ZeroDivisionError')\n",
    "except Exception as e: # LEAST SPECIFIC\n",
    "    print(e)\n",
    "except IndexError as e: # MOST SPECIFIC\n",
    "    print('Index Error')"
   ]
  },
  {
   "cell_type": "code",
   "execution_count": 41,
   "id": "fae22e06",
   "metadata": {},
   "outputs": [
    {
     "name": "stdout",
     "output_type": "stream",
     "text": [
      "Index Error\n"
     ]
    }
   ],
   "source": [
    "try:\n",
    "    arr = [1,2,3]\n",
    "    print(arr[4])\n",
    "except ZeroDivisionError: # THIS BLOCK OF CODE IS NOT EXECUTED IN THIS CASE\n",
    "    print('ZeroDivisionError')\n",
    "except IndexError as e: # MOST SPECIFIC\n",
    "    print('Index Error')\n",
    "except Exception as e: # LEAST SPECIFIC\n",
    "    print(e)"
   ]
  },
  {
   "cell_type": "markdown",
   "id": "5526f0f7",
   "metadata": {},
   "source": [
    "### Question 7"
   ]
  },
  {
   "cell_type": "markdown",
   "id": "7a3e1cfb",
   "metadata": {},
   "source": [
    "* EOFError : Raised when the input() function hits the end-of-file condition\n",
    "\n",
    "* FloatingPointError : Raised when a floating point operation fails\n",
    "\n",
    "* IndexError : Raised when the index of a sequence is out of range\n",
    "\n",
    "* MemoryError : Raised when an operation runs out of memory\n",
    "\n",
    "* OverflowError : Raised when the result of an arithmetic operation is too large to be represented\n",
    "\n",
    "* TabError : Raised when the indentation consists of inconsitent tabs and spaces\n",
    "\n",
    "* ValueError : Raised when a function gets an argument of correct type but of improper value to perform an operation"
   ]
  },
  {
   "cell_type": "markdown",
   "id": "7a83678e",
   "metadata": {},
   "source": [
    "### Question 8"
   ]
  },
  {
   "cell_type": "code",
   "execution_count": 48,
   "id": "62974712",
   "metadata": {},
   "outputs": [
    {
     "name": "stdout",
     "output_type": "stream",
     "text": [
      "Enter a number : 1\n",
      "Enter another number : apple\n",
      "invalid literal for int() with base 10: 'apple'\n"
     ]
    }
   ],
   "source": [
    "try:\n",
    "    a = int(input('Enter a number : '))\n",
    "    b = int(input('Enter another number : '))\n",
    "    print(a/b)\n",
    "except Exception as e:\n",
    "    print(e)"
   ]
  },
  {
   "cell_type": "code",
   "execution_count": 49,
   "id": "c98b995c",
   "metadata": {},
   "outputs": [
    {
     "name": "stdout",
     "output_type": "stream",
     "text": [
      "invalid literal for int() with base 10: 'apple'\n"
     ]
    }
   ],
   "source": [
    "try:\n",
    "    a=int('apple')\n",
    "except Exception as e:\n",
    "    print(e)"
   ]
  },
  {
   "cell_type": "code",
   "execution_count": 50,
   "id": "6c5c4ac0",
   "metadata": {},
   "outputs": [
    {
     "name": "stdout",
     "output_type": "stream",
     "text": [
      "list index out of range\n"
     ]
    }
   ],
   "source": [
    "a = [1,2,3]\n",
    "try:\n",
    "    print(a[4])\n",
    "except Exception as e:\n",
    "    print(e)"
   ]
  },
  {
   "cell_type": "code",
   "execution_count": 52,
   "id": "085961e4",
   "metadata": {},
   "outputs": [
    {
     "name": "stdout",
     "output_type": "stream",
     "text": [
      "Enter a number : 10\n",
      "Enter another number : 0\n",
      "division by zero\n"
     ]
    }
   ],
   "source": [
    "try:\n",
    "    a = int(input('Enter a number : '))\n",
    "    b = int(input('Enter another number : '))\n",
    "    print(a/b)\n",
    "except ZeroDivisionError as e:\n",
    "    print(e)\n",
    "except Exception as e:\n",
    "    print(e)"
   ]
  },
  {
   "cell_type": "code",
   "execution_count": 54,
   "id": "27c3f832",
   "metadata": {},
   "outputs": [
    {
     "name": "stdout",
     "output_type": "stream",
     "text": [
      "[Errno 2] No such file or directory: 'requirements.txt'\n"
     ]
    }
   ],
   "source": [
    "try:\n",
    "    with open(\"requirements.txt\", \"r\") as file:\n",
    "        pass\n",
    "except Exception as e:\n",
    "    print(e)"
   ]
  },
  {
   "cell_type": "markdown",
   "id": "61039acf",
   "metadata": {},
   "source": [
    "### EXTRA"
   ]
  },
  {
   "cell_type": "code",
   "execution_count": 1,
   "id": "bf79a8d9",
   "metadata": {},
   "outputs": [],
   "source": [
    "import sys"
   ]
  },
  {
   "cell_type": "code",
   "execution_count": 2,
   "id": "70e31f86",
   "metadata": {},
   "outputs": [],
   "source": [
    "class CustomException(Exception):\n",
    "    def __init__(self,error,detail):\n",
    "        _,_,exc_tb = detail.exc_info()\n",
    "        self.message = f\"{exc_tb.tb_lineno} : {str(error)}\"\n",
    "        # super().__init__(self.message) - NOT NEEDED WHEN __str(self)__ is overridden\n",
    "    def __str__(self):\n",
    "        return self.message"
   ]
  },
  {
   "cell_type": "code",
   "execution_count": 3,
   "id": "f6c5cc8e",
   "metadata": {},
   "outputs": [
    {
     "name": "stdout",
     "output_type": "stream",
     "text": [
      "2 : division by zero\n"
     ]
    }
   ],
   "source": [
    "try:\n",
    "    print(1/0)\n",
    "except Exception as e:\n",
    "    print(CustomException(e,sys))"
   ]
  },
  {
   "cell_type": "code",
   "execution_count": null,
   "id": "eacdbc6b",
   "metadata": {},
   "outputs": [],
   "source": []
  }
 ],
 "metadata": {
  "kernelspec": {
   "display_name": "Python 3 (ipykernel)",
   "language": "python",
   "name": "python3"
  },
  "language_info": {
   "codemirror_mode": {
    "name": "ipython",
    "version": 3
   },
   "file_extension": ".py",
   "mimetype": "text/x-python",
   "name": "python",
   "nbconvert_exporter": "python",
   "pygments_lexer": "ipython3",
   "version": "3.10.9"
  }
 },
 "nbformat": 4,
 "nbformat_minor": 5
}
