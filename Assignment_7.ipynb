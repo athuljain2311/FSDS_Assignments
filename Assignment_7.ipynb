{
 "cells": [
  {
   "cell_type": "markdown",
   "id": "7ee43095",
   "metadata": {},
   "source": [
    "### Question 1"
   ]
  },
  {
   "cell_type": "code",
   "execution_count": 1,
   "id": "40e048fc",
   "metadata": {},
   "outputs": [],
   "source": [
    "a = 10\n",
    "b = 20\n",
    "add = a+b\n",
    "subtract = a-b\n",
    "divide = a/b\n",
    "multiply = a*b"
   ]
  },
  {
   "cell_type": "code",
   "execution_count": 3,
   "id": "73cd786a",
   "metadata": {},
   "outputs": [
    {
     "name": "stdout",
     "output_type": "stream",
     "text": [
      "First variable is 10 & second variable is 20\n",
      "Addition:10+20=30\n",
      "Subtraction:10-20=-10\n",
      "Multiplication:10*20=200\n",
      "Division:10/20=0.5\n"
     ]
    }
   ],
   "source": [
    "print(f\"First variable is {a} & second variable is {b}\")\n",
    "print(f\"Addition:{a}+{b}={add}\")\n",
    "print(f\"Subtraction:{a}-{b}={subtract}\")\n",
    "print(f\"Multiplication:{a}*{b}={multiply}\")\n",
    "print(f\"Division:{a}/{b}={divide}\")"
   ]
  },
  {
   "cell_type": "markdown",
   "id": "a944b39e",
   "metadata": {},
   "source": [
    "### Question 2"
   ]
  },
  {
   "cell_type": "markdown",
   "id": "cd6aff32",
   "metadata": {},
   "source": [
    "* / operator is used to perform division but it returns a datavalue of float datatype\n",
    "\n",
    "* // operator is also used to perform floor division, that is it returns a datavalue of type int but rounded down to the nearest integer value"
   ]
  },
  {
   "cell_type": "code",
   "execution_count": 8,
   "id": "581d7949",
   "metadata": {},
   "outputs": [
    {
     "data": {
      "text/plain": [
       "1.6666666666666667"
      ]
     },
     "execution_count": 8,
     "metadata": {},
     "output_type": "execute_result"
    }
   ],
   "source": [
    "5/3"
   ]
  },
  {
   "cell_type": "code",
   "execution_count": 9,
   "id": "0f887899",
   "metadata": {},
   "outputs": [
    {
     "data": {
      "text/plain": [
       "1"
      ]
     },
     "execution_count": 9,
     "metadata": {},
     "output_type": "execute_result"
    }
   ],
   "source": [
    "5//3"
   ]
  },
  {
   "cell_type": "markdown",
   "id": "61553fe5",
   "metadata": {},
   "source": [
    "* ** operator is used for exponentiation\n",
    "* ^ operator is the XOR (Exclusive OR) operator"
   ]
  },
  {
   "cell_type": "code",
   "execution_count": 10,
   "id": "fcc32f9c",
   "metadata": {},
   "outputs": [
    {
     "data": {
      "text/plain": [
       "8"
      ]
     },
     "execution_count": 10,
     "metadata": {},
     "output_type": "execute_result"
    }
   ],
   "source": [
    "2**3"
   ]
  },
  {
   "cell_type": "markdown",
   "id": "6fa238a8",
   "metadata": {},
   "source": [
    "The binary value of 2 is 0010, and the binary value of 3 is 0011"
   ]
  },
  {
   "cell_type": "code",
   "execution_count": 11,
   "id": "c30fad43",
   "metadata": {},
   "outputs": [
    {
     "data": {
      "text/plain": [
       "1"
      ]
     },
     "execution_count": 11,
     "metadata": {},
     "output_type": "execute_result"
    }
   ],
   "source": [
    "2^3"
   ]
  },
  {
   "cell_type": "code",
   "execution_count": 12,
   "id": "3d5c747a",
   "metadata": {},
   "outputs": [
    {
     "data": {
      "text/plain": [
       "1"
      ]
     },
     "execution_count": 12,
     "metadata": {},
     "output_type": "execute_result"
    }
   ],
   "source": [
    "3^2"
   ]
  },
  {
   "cell_type": "markdown",
   "id": "98c1f792",
   "metadata": {},
   "source": [
    "The above expressions return 0001 which the binary equivalent of 1"
   ]
  },
  {
   "cell_type": "markdown",
   "id": "fffdd933",
   "metadata": {},
   "source": [
    "### Question 3"
   ]
  },
  {
   "cell_type": "markdown",
   "id": "25bf02c7",
   "metadata": {},
   "source": [
    "* and\n",
    "* or\n",
    "* not, are the logical operators in Python"
   ]
  },
  {
   "cell_type": "markdown",
   "id": "f3a724fe",
   "metadata": {},
   "source": [
    "### Question 4"
   ]
  },
  {
   "cell_type": "markdown",
   "id": "bbd93f71",
   "metadata": {},
   "source": [
    "The bitwise left shift and bitwise right shift operators, shifts a number to the left and right respectively by the specified number of bits and fills the new bits with zero and returns the new binary equivalent"
   ]
  },
  {
   "cell_type": "code",
   "execution_count": 15,
   "id": "e5ceb0bf",
   "metadata": {
    "scrolled": true
   },
   "outputs": [
    {
     "data": {
      "text/plain": [
       "40"
      ]
     },
     "execution_count": 15,
     "metadata": {},
     "output_type": "execute_result"
    }
   ],
   "source": [
    "10<<2"
   ]
  },
  {
   "cell_type": "markdown",
   "id": "7f7f1654",
   "metadata": {},
   "source": [
    "The binary equivalent of 10 is 1010. On performing bitwise left shift, it becomes 101000, which is the equivalent of 40"
   ]
  },
  {
   "cell_type": "code",
   "execution_count": 16,
   "id": "39101aad",
   "metadata": {},
   "outputs": [
    {
     "data": {
      "text/plain": [
       "2"
      ]
     },
     "execution_count": 16,
     "metadata": {},
     "output_type": "execute_result"
    }
   ],
   "source": [
    "10>>2"
   ]
  },
  {
   "cell_type": "markdown",
   "id": "f5ceeed2",
   "metadata": {},
   "source": [
    "The binary equivalent of 10 is 1010 on performing unsigned right shift becomes 0010 which is the binary equivalent of 2"
   ]
  },
  {
   "cell_type": "markdown",
   "id": "dba3c248",
   "metadata": {},
   "source": [
    "### Question 5"
   ]
  },
  {
   "cell_type": "code",
   "execution_count": 13,
   "id": "5120d759",
   "metadata": {},
   "outputs": [
    {
     "name": "stdout",
     "output_type": "stream",
     "text": [
      "[1, 2, 3, 4, 5, 6, 7, 8, 9, 10, 11, 12, 13, 14, 15]\n"
     ]
    }
   ],
   "source": [
    "lst = list(range(1,16))\n",
    "print(lst)"
   ]
  },
  {
   "cell_type": "code",
   "execution_count": 14,
   "id": "50f567f9",
   "metadata": {},
   "outputs": [
    {
     "name": "stdout",
     "output_type": "stream",
     "text": [
      "True\n"
     ]
    }
   ],
   "source": [
    "if 10 in lst:\n",
    "    print(True)\n",
    "else:\n",
    "    print(False)"
   ]
  }
 ],
 "metadata": {
  "kernelspec": {
   "display_name": "Python 3 (ipykernel)",
   "language": "python",
   "name": "python3"
  },
  "language_info": {
   "codemirror_mode": {
    "name": "ipython",
    "version": 3
   },
   "file_extension": ".py",
   "mimetype": "text/x-python",
   "name": "python",
   "nbconvert_exporter": "python",
   "pygments_lexer": "ipython3",
   "version": "3.10.9"
  }
 },
 "nbformat": 4,
 "nbformat_minor": 5
}
