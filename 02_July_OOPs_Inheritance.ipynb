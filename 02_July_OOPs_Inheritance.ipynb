{
 "cells": [
  {
   "cell_type": "markdown",
   "id": "01b2d180",
   "metadata": {},
   "source": [
    "### Question 1"
   ]
  },
  {
   "cell_type": "markdown",
   "id": "6e09e78e",
   "metadata": {},
   "source": [
    "The properties of one class can be inherited to another, the parent class is known as the base class and the child class is known as the derived class"
   ]
  },
  {
   "cell_type": "code",
   "execution_count": null,
   "id": "42029dd7",
   "metadata": {},
   "outputs": [],
   "source": []
  }
 ],
 "metadata": {
  "kernelspec": {
   "display_name": "Python 3 (ipykernel)",
   "language": "python",
   "name": "python3"
  },
  "language_info": {
   "codemirror_mode": {
    "name": "ipython",
    "version": 3
   },
   "file_extension": ".py",
   "mimetype": "text/x-python",
   "name": "python",
   "nbconvert_exporter": "python",
   "pygments_lexer": "ipython3",
   "version": "3.10.9"
  }
 },
 "nbformat": 4,
 "nbformat_minor": 5
}
