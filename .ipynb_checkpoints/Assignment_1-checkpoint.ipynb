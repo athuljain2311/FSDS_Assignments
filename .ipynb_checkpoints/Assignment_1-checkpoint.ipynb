{
 "cells": [
  {
   "cell_type": "markdown",
   "id": "c89965e4",
   "metadata": {},
   "source": [
    "### Question 1"
   ]
  },
  {
   "cell_type": "raw",
   "id": "a75ee351",
   "metadata": {},
   "source": [
    "'hello',-87.8 and 6 are literals. The former is a string literal and latter two are floating point and integer literals respectively.\n",
    "\n",
    "* , - , / , + are mathematical operators in Python"
   ]
  },
  {
   "cell_type": "markdown",
   "id": "dcd363ea",
   "metadata": {},
   "source": [
    "### Question 2"
   ]
  },
  {
   "cell_type": "raw",
   "id": "fdcb7da4",
   "metadata": {},
   "source": [
    "A string literal is a datatype in Python. For example - \"apple\"\n",
    "String literals are values that enclosed within single, double or triple quotes.\n",
    "\n",
    "A variable is a named memory location holding a data value of a specific data type\n",
    "For example - a = \"apple\". Here a is the variable holding a string of value \"apple\""
   ]
  },
  {
   "cell_type": "markdown",
   "id": "75e580ed",
   "metadata": {},
   "source": [
    "### Question 3"
   ]
  },
  {
   "cell_type": "raw",
   "id": "3679ae24",
   "metadata": {},
   "source": [
    "Integer : Integer datatypes basically consist of positive and negative numbers (non decimal numeric values). There cannot be decimal points in Integer datatypes.\n",
    "\n",
    "Boolean : Consists of two values True or False.\n",
    "\n",
    "String : Consists of a set of characters that are enclosed within single, double or triple quotes."
   ]
  },
  {
   "cell_type": "markdown",
   "id": "9554ed7b",
   "metadata": {},
   "source": [
    "### Question 4"
   ]
  },
  {
   "cell_type": "raw",
   "id": "895e35b8",
   "metadata": {},
   "source": [
    "An expression is a combination of one or more operators and operands. The operands can be any data value of any data type.\n",
    "\n",
    "For example : True + 1\n",
    "The above expression will be evaluated to be 2.\n",
    "\n",
    "True is a datavalue of Boolean datatype.\n",
    "1 is a datavalue of Integer datatype.\n",
    "The above two are the operands.\n",
    "+ is the addition operator.\n",
    "\n",
    "The combination of the operators and operands form the expression."
   ]
  },
  {
   "cell_type": "code",
   "execution_count": 1,
   "id": "7997888f",
   "metadata": {},
   "outputs": [
    {
     "data": {
      "text/plain": [
       "2"
      ]
     },
     "execution_count": 1,
     "metadata": {},
     "output_type": "execute_result"
    }
   ],
   "source": [
    "True + 1"
   ]
  },
  {
   "cell_type": "markdown",
   "id": "2c5e6546",
   "metadata": {},
   "source": [
    "### Question 5"
   ]
  },
  {
   "cell_type": "code",
   "execution_count": 3,
   "id": "2de566bd",
   "metadata": {},
   "outputs": [
    {
     "data": {
      "text/plain": [
       "10"
      ]
     },
     "execution_count": 3,
     "metadata": {},
     "output_type": "execute_result"
    }
   ],
   "source": [
    "spam = 10\n",
    "spam"
   ]
  },
  {
   "cell_type": "raw",
   "id": "ddb8ccd3",
   "metadata": {},
   "source": [
    "Here the data value 10 is assigned to the variable spam"
   ]
  },
  {
   "cell_type": "code",
   "execution_count": 4,
   "id": "8d88d6aa",
   "metadata": {},
   "outputs": [
    {
     "data": {
      "text/plain": [
       "2"
      ]
     },
     "execution_count": 4,
     "metadata": {},
     "output_type": "execute_result"
    }
   ],
   "source": [
    "spam = True + 1\n",
    "spam"
   ]
  },
  {
   "cell_type": "raw",
   "id": "b34362bc",
   "metadata": {},
   "source": [
    "The above expression True + 1 is evaluated and the assignement operator (=) assigns the value of the expression to the variable spam (The value of the variable spam is reassigned).\n",
    "\n",
    "A statement executes something. For example - print statement, if statement.\n",
    "Every statement is an expression but every expression is not a statement."
   ]
  },
  {
   "cell_type": "markdown",
   "id": "06a27d9f",
   "metadata": {},
   "source": [
    "### Question 6"
   ]
  },
  {
   "cell_type": "code",
   "execution_count": 5,
   "id": "2441c896",
   "metadata": {},
   "outputs": [
    {
     "data": {
      "text/plain": [
       "23"
      ]
     },
     "execution_count": 5,
     "metadata": {},
     "output_type": "execute_result"
    }
   ],
   "source": [
    "bacon = 22\n",
    "bacon+1"
   ]
  },
  {
   "cell_type": "code",
   "execution_count": 7,
   "id": "57728f30",
   "metadata": {},
   "outputs": [
    {
     "data": {
      "text/plain": [
       "22"
      ]
     },
     "execution_count": 7,
     "metadata": {},
     "output_type": "execute_result"
    }
   ],
   "source": [
    "bacon # The value of the variable is not affected since it has not been reassigned"
   ]
  },
  {
   "cell_type": "markdown",
   "id": "7d311ac4",
   "metadata": {},
   "source": [
    "### Question 7"
   ]
  },
  {
   "cell_type": "code",
   "execution_count": 8,
   "id": "00ff9faf",
   "metadata": {},
   "outputs": [
    {
     "data": {
      "text/plain": [
       "'spamspamspam'"
      ]
     },
     "execution_count": 8,
     "metadata": {},
     "output_type": "execute_result"
    }
   ],
   "source": [
    "'spam' + 'spamspam'"
   ]
  },
  {
   "cell_type": "code",
   "execution_count": 9,
   "id": "668fabe6",
   "metadata": {},
   "outputs": [
    {
     "data": {
      "text/plain": [
       "'spamspamspam'"
      ]
     },
     "execution_count": 9,
     "metadata": {},
     "output_type": "execute_result"
    }
   ],
   "source": [
    "'spam'*3"
   ]
  },
  {
   "cell_type": "raw",
   "id": "a3c6ad24",
   "metadata": {},
   "source": [
    "Both expressions evaluate to the same value"
   ]
  },
  {
   "cell_type": "markdown",
   "id": "8ee7a595",
   "metadata": {},
   "source": [
    "### Question 8"
   ]
  },
  {
   "cell_type": "raw",
   "id": "8ba5b525",
   "metadata": {},
   "source": [
    "100 is an invalid variable name because it is an Integer (starts with  a number).\n",
    "\n",
    "A varible name cannot start with a number in Python. Only alphabets and underscore(_) can be used to start variable names in Python. \n",
    "\n",
    "100 being an Integer literal conveys a different meaning to the interpreter."
   ]
  },
  {
   "cell_type": "code",
   "execution_count": 10,
   "id": "fd690cbc",
   "metadata": {},
   "outputs": [],
   "source": [
    "a100 = 100\n",
    "_100 = 100"
   ]
  },
  {
   "cell_type": "markdown",
   "id": "5f262baa",
   "metadata": {},
   "source": [
    "### Question 9"
   ]
  },
  {
   "cell_type": "code",
   "execution_count": 11,
   "id": "8d175a8e",
   "metadata": {},
   "outputs": [],
   "source": [
    "val = 10"
   ]
  },
  {
   "cell_type": "code",
   "execution_count": 12,
   "id": "ad1d3da6",
   "metadata": {},
   "outputs": [
    {
     "data": {
      "text/plain": [
       "10.0"
      ]
     },
     "execution_count": 12,
     "metadata": {},
     "output_type": "execute_result"
    }
   ],
   "source": [
    "float(10)"
   ]
  },
  {
   "cell_type": "code",
   "execution_count": 13,
   "id": "5d77d6e5",
   "metadata": {},
   "outputs": [
    {
     "data": {
      "text/plain": [
       "10"
      ]
     },
     "execution_count": 13,
     "metadata": {},
     "output_type": "execute_result"
    }
   ],
   "source": [
    "int(10)"
   ]
  },
  {
   "cell_type": "code",
   "execution_count": 14,
   "id": "094dc987",
   "metadata": {},
   "outputs": [
    {
     "data": {
      "text/plain": [
       "'10'"
      ]
     },
     "execution_count": 14,
     "metadata": {},
     "output_type": "execute_result"
    }
   ],
   "source": [
    "str(10)"
   ]
  },
  {
   "cell_type": "markdown",
   "id": "319adf23",
   "metadata": {},
   "source": [
    "### Question 10"
   ]
  },
  {
   "cell_type": "code",
   "execution_count": 15,
   "id": "d7114290",
   "metadata": {},
   "outputs": [
    {
     "ename": "TypeError",
     "evalue": "can only concatenate str (not \"int\") to str",
     "output_type": "error",
     "traceback": [
      "\u001b[1;31m---------------------------------------------------------------------------\u001b[0m",
      "\u001b[1;31mTypeError\u001b[0m                                 Traceback (most recent call last)",
      "Cell \u001b[1;32mIn[15], line 1\u001b[0m\n\u001b[1;32m----> 1\u001b[0m \u001b[38;5;124;43m'\u001b[39;49m\u001b[38;5;124;43mI have eaten\u001b[39;49m\u001b[38;5;124;43m'\u001b[39;49m\u001b[43m \u001b[49m\u001b[38;5;241;43m+\u001b[39;49m\u001b[43m \u001b[49m\u001b[38;5;241;43m99\u001b[39;49m \u001b[38;5;241m+\u001b[39m \u001b[38;5;124m'\u001b[39m\u001b[38;5;124mburritos\u001b[39m\u001b[38;5;124m'\u001b[39m\n",
      "\u001b[1;31mTypeError\u001b[0m: can only concatenate str (not \"int\") to str"
     ]
    }
   ],
   "source": [
    "'I have eaten' + 99 + 'burritos'"
   ]
  },
  {
   "cell_type": "raw",
   "id": "3ee8d563",
   "metadata": {},
   "source": [
    "The above expression raises an error because it is trying to concatenate a string literal to an integer literal"
   ]
  },
  {
   "cell_type": "code",
   "execution_count": 18,
   "id": "1ae4fbd4",
   "metadata": {
    "scrolled": true
   },
   "outputs": [
    {
     "data": {
      "text/plain": [
       "'I have eaten 99 burritos'"
      ]
     },
     "execution_count": 18,
     "metadata": {},
     "output_type": "execute_result"
    }
   ],
   "source": [
    "'I have eaten' + ' 99 ' + 'burritos'"
   ]
  },
  {
   "cell_type": "code",
   "execution_count": 20,
   "id": "b1778355",
   "metadata": {},
   "outputs": [
    {
     "data": {
      "text/plain": [
       "'I have eaten 99 burritos'"
      ]
     },
     "execution_count": 20,
     "metadata": {},
     "output_type": "execute_result"
    }
   ],
   "source": [
    "'I have eaten ' + str(99) + ' burritos'"
   ]
  },
  {
   "cell_type": "raw",
   "id": "e7953c48",
   "metadata": {},
   "source": [
    "Converting 99 to an string solves the issue."
   ]
  }
 ],
 "metadata": {
  "kernelspec": {
   "display_name": "Python 3 (ipykernel)",
   "language": "python",
   "name": "python3"
  },
  "language_info": {
   "codemirror_mode": {
    "name": "ipython",
    "version": 3
   },
   "file_extension": ".py",
   "mimetype": "text/x-python",
   "name": "python",
   "nbconvert_exporter": "python",
   "pygments_lexer": "ipython3",
   "version": "3.10.9"
  }
 },
 "nbformat": 4,
 "nbformat_minor": 5
}
