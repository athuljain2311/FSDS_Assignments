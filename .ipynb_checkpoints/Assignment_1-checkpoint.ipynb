{
 "cells": [
  {
   "cell_type": "markdown",
   "id": "ccd7c388",
   "metadata": {},
   "source": [
    "### Question 1"
   ]
  },
  {
   "cell_type": "markdown",
   "id": "ffb31f70",
   "metadata": {},
   "source": [
    "'hello',-87.8 and 6 are literals. The former is a string literal and latter two are floating point and integer literals respectively.\n",
    "\n",
    "Mathematical operators in Python are * , - , / , +"
   ]
  },
  {
   "cell_type": "markdown",
   "id": "512299b8",
   "metadata": {},
   "source": [
    "### Question 2"
   ]
  },
  {
   "cell_type": "markdown",
   "id": "531d52c7",
   "metadata": {},
   "source": [
    "A string literal is a datatype in Python. For example - \"apple\"\n",
    "String literals are values that enclosed within single, double or triple quotes.\n",
    "\n",
    "A variable is a named memory location holding a data value of a specific data type\n",
    "For example - a = \"apple\". Here a is the variable holding a string of value \"apple\""
   ]
  },
  {
   "cell_type": "markdown",
   "id": "f86a48cd",
   "metadata": {},
   "source": [
    "### Question 3"
   ]
  },
  {
   "cell_type": "markdown",
   "id": "1d271e16",
   "metadata": {},
   "source": [
    "Integer : Integer datatypes basically consist of positive and negative numbers (non decimal numeric values). There cannot be decimal points in Integer datatypes.\n",
    "\n",
    "Boolean : Consists of two values True or False.\n",
    "\n",
    "String : Consists of a set of characters that are enclosed within single, double or triple quotes."
   ]
  },
  {
   "cell_type": "markdown",
   "id": "4db7ce7e",
   "metadata": {},
   "source": [
    "### Question 4"
   ]
  },
  {
   "cell_type": "markdown",
   "id": "26265a00",
   "metadata": {},
   "source": [
    "An expression is a combination of one or more operators and operands. The operands can be any data value of any data type.\n",
    "\n",
    "For example : True + 1\n",
    "The above expression will be evaluated to be 2.\n",
    "\n",
    "True is a datavalue of Boolean datatype.\n",
    "1 is a datavalue of Integer datatype.\n",
    "The above two are the operands.\n",
    "\\+ is the addition operator.\n",
    "\n",
    "The combination of the operators and operands form the expression."
   ]
  },
  {
   "cell_type": "code",
   "execution_count": 1,
   "id": "26e69261",
   "metadata": {},
   "outputs": [
    {
     "data": {
      "text/plain": [
       "2"
      ]
     },
     "execution_count": 1,
     "metadata": {},
     "output_type": "execute_result"
    }
   ],
   "source": [
    "True + 1"
   ]
  },
  {
   "cell_type": "markdown",
   "id": "e6104687",
   "metadata": {},
   "source": [
    "### Question 5"
   ]
  },
  {
   "cell_type": "code",
   "execution_count": 3,
   "id": "d53e52ba",
   "metadata": {},
   "outputs": [
    {
     "data": {
      "text/plain": [
       "10"
      ]
     },
     "execution_count": 3,
     "metadata": {},
     "output_type": "execute_result"
    }
   ],
   "source": [
    "spam = 10\n",
    "spam"
   ]
  },
  {
   "cell_type": "markdown",
   "id": "c666d9ff",
   "metadata": {},
   "source": [
    "Here the data value 10 is assigned to the variable spam"
   ]
  },
  {
   "cell_type": "code",
   "execution_count": 4,
   "id": "624bc6d9",
   "metadata": {},
   "outputs": [
    {
     "data": {
      "text/plain": [
       "2"
      ]
     },
     "execution_count": 4,
     "metadata": {},
     "output_type": "execute_result"
    }
   ],
   "source": [
    "spam = True + 1\n",
    "spam"
   ]
  },
  {
   "cell_type": "markdown",
   "id": "ecfe3ffb",
   "metadata": {},
   "source": [
    "The above expression True + 1 is evaluated and the assignement operator (=) assigns the value of the expression to the variable spam (The value of the variable spam is reassigned).\n",
    "\n",
    "A statement executes something. For example - print statement, if statement.\n",
    "Every statement is an expression but every expression is not a statement."
   ]
  },
  {
   "cell_type": "markdown",
   "id": "63b1b6d6",
   "metadata": {},
   "source": [
    "### Question 6"
   ]
  },
  {
   "cell_type": "code",
   "execution_count": 5,
   "id": "80e85582",
   "metadata": {},
   "outputs": [
    {
     "data": {
      "text/plain": [
       "23"
      ]
     },
     "execution_count": 5,
     "metadata": {},
     "output_type": "execute_result"
    }
   ],
   "source": [
    "bacon = 22\n",
    "bacon+1"
   ]
  },
  {
   "cell_type": "code",
   "execution_count": 7,
   "id": "0774ee1e",
   "metadata": {},
   "outputs": [
    {
     "data": {
      "text/plain": [
       "22"
      ]
     },
     "execution_count": 7,
     "metadata": {},
     "output_type": "execute_result"
    }
   ],
   "source": [
    "bacon # The value of the variable is not affected since it has not been reassigned"
   ]
  },
  {
   "cell_type": "markdown",
   "id": "d3afe8fd",
   "metadata": {},
   "source": [
    "### Question 7"
   ]
  },
  {
   "cell_type": "code",
   "execution_count": 8,
   "id": "ae8a40d0",
   "metadata": {},
   "outputs": [
    {
     "data": {
      "text/plain": [
       "'spamspamspam'"
      ]
     },
     "execution_count": 8,
     "metadata": {},
     "output_type": "execute_result"
    }
   ],
   "source": [
    "'spam' + 'spamspam'"
   ]
  },
  {
   "cell_type": "code",
   "execution_count": 9,
   "id": "ff925235",
   "metadata": {},
   "outputs": [
    {
     "data": {
      "text/plain": [
       "'spamspamspam'"
      ]
     },
     "execution_count": 9,
     "metadata": {},
     "output_type": "execute_result"
    }
   ],
   "source": [
    "'spam'*3"
   ]
  },
  {
   "cell_type": "markdown",
   "id": "af133e0f",
   "metadata": {},
   "source": [
    "Both expressions evaluate to the same value"
   ]
  },
  {
   "cell_type": "markdown",
   "id": "1d0ee951",
   "metadata": {},
   "source": [
    "### Question 8"
   ]
  },
  {
   "cell_type": "markdown",
   "id": "87c905af",
   "metadata": {},
   "source": [
    "100 is an invalid variable name because it is an Integer (starts with  a number).\n",
    "\n",
    "A varible name cannot start with a number in Python. Only alphabets and underscore(_) can be used to start variable names in Python. \n",
    "\n",
    "100 being an Integer literal conveys a different meaning to the interpreter."
   ]
  },
  {
   "cell_type": "code",
   "execution_count": 10,
   "id": "ca64fa33",
   "metadata": {},
   "outputs": [],
   "source": [
    "a100 = 100\n",
    "_100 = 100"
   ]
  },
  {
   "cell_type": "markdown",
   "id": "8e8cfb51",
   "metadata": {},
   "source": [
    "### Question 9"
   ]
  },
  {
   "cell_type": "code",
   "execution_count": 11,
   "id": "91c3b619",
   "metadata": {},
   "outputs": [],
   "source": [
    "val = 10"
   ]
  },
  {
   "cell_type": "code",
   "execution_count": 12,
   "id": "b205b220",
   "metadata": {},
   "outputs": [
    {
     "data": {
      "text/plain": [
       "10.0"
      ]
     },
     "execution_count": 12,
     "metadata": {},
     "output_type": "execute_result"
    }
   ],
   "source": [
    "float(10)"
   ]
  },
  {
   "cell_type": "code",
   "execution_count": 13,
   "id": "14353be3",
   "metadata": {},
   "outputs": [
    {
     "data": {
      "text/plain": [
       "10"
      ]
     },
     "execution_count": 13,
     "metadata": {},
     "output_type": "execute_result"
    }
   ],
   "source": [
    "int(10)"
   ]
  },
  {
   "cell_type": "code",
   "execution_count": 14,
   "id": "8ff9e5de",
   "metadata": {},
   "outputs": [
    {
     "data": {
      "text/plain": [
       "'10'"
      ]
     },
     "execution_count": 14,
     "metadata": {},
     "output_type": "execute_result"
    }
   ],
   "source": [
    "str(10)"
   ]
  },
  {
   "cell_type": "markdown",
   "id": "7b43283f",
   "metadata": {},
   "source": [
    "### Question 10"
   ]
  },
  {
   "cell_type": "code",
   "execution_count": 15,
   "id": "77589295",
   "metadata": {},
   "outputs": [
    {
     "ename": "TypeError",
     "evalue": "can only concatenate str (not \"int\") to str",
     "output_type": "error",
     "traceback": [
      "\u001b[1;31m---------------------------------------------------------------------------\u001b[0m",
      "\u001b[1;31mTypeError\u001b[0m                                 Traceback (most recent call last)",
      "Cell \u001b[1;32mIn[15], line 1\u001b[0m\n\u001b[1;32m----> 1\u001b[0m \u001b[38;5;124;43m'\u001b[39;49m\u001b[38;5;124;43mI have eaten\u001b[39;49m\u001b[38;5;124;43m'\u001b[39;49m\u001b[43m \u001b[49m\u001b[38;5;241;43m+\u001b[39;49m\u001b[43m \u001b[49m\u001b[38;5;241;43m99\u001b[39;49m \u001b[38;5;241m+\u001b[39m \u001b[38;5;124m'\u001b[39m\u001b[38;5;124mburritos\u001b[39m\u001b[38;5;124m'\u001b[39m\n",
      "\u001b[1;31mTypeError\u001b[0m: can only concatenate str (not \"int\") to str"
     ]
    }
   ],
   "source": [
    "'I have eaten' + 99 + 'burritos'"
   ]
  },
  {
   "cell_type": "raw",
   "id": "7428d626",
   "metadata": {},
   "source": [
    "The above expression raises an error because it is trying to concatenate a string literal to an integer literal"
   ]
  },
  {
   "cell_type": "code",
   "execution_count": 18,
   "id": "a27547c7",
   "metadata": {
    "scrolled": true
   },
   "outputs": [
    {
     "data": {
      "text/plain": [
       "'I have eaten 99 burritos'"
      ]
     },
     "execution_count": 18,
     "metadata": {},
     "output_type": "execute_result"
    }
   ],
   "source": [
    "'I have eaten' + ' 99 ' + 'burritos'"
   ]
  },
  {
   "cell_type": "code",
   "execution_count": 20,
   "id": "fcc7b2d6",
   "metadata": {},
   "outputs": [
    {
     "data": {
      "text/plain": [
       "'I have eaten 99 burritos'"
      ]
     },
     "execution_count": 20,
     "metadata": {},
     "output_type": "execute_result"
    }
   ],
   "source": [
    "'I have eaten ' + str(99) + ' burritos'"
   ]
  },
  {
   "cell_type": "markdown",
   "id": "d5fac6af",
   "metadata": {},
   "source": [
    "Converting 99 to an string solves the issue."
   ]
  },
  {
   "cell_type": "code",
   "execution_count": null,
   "id": "b6e52239",
   "metadata": {},
   "outputs": [],
   "source": []
  }
 ],
 "metadata": {
  "kernelspec": {
   "display_name": "Python 3 (ipykernel)",
   "language": "python",
   "name": "python3"
  },
  "language_info": {
   "codemirror_mode": {
    "name": "ipython",
    "version": 3
   },
   "file_extension": ".py",
   "mimetype": "text/x-python",
   "name": "python",
   "nbconvert_exporter": "python",
   "pygments_lexer": "ipython3",
   "version": "3.10.9"
  }
 },
 "nbformat": 4,
 "nbformat_minor": 5
}
