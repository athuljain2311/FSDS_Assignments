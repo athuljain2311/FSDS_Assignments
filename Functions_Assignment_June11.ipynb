{
 "cells": [
  {
   "cell_type": "markdown",
   "id": "760f1eb4",
   "metadata": {},
   "source": [
    "### Question 1"
   ]
  },
  {
   "cell_type": "markdown",
   "id": "7e883b32",
   "metadata": {},
   "source": [
    "* Lambda functions are anonymous functions\n",
    "* They can have any number of arguments and one expression that evaluates the arguments\n",
    "* Lambda funcions are defined using the key word 'lambda' whereas the normal functions are defined using the keyword 'def'"
   ]
  },
  {
   "cell_type": "code",
   "execution_count": 3,
   "id": "a6e07ce3",
   "metadata": {},
   "outputs": [],
   "source": [
    "even = lambda x:True if x%2==0 else False"
   ]
  },
  {
   "cell_type": "code",
   "execution_count": 4,
   "id": "5629311c",
   "metadata": {},
   "outputs": [
    {
     "name": "stdout",
     "output_type": "stream",
     "text": [
      "False\n",
      "True\n"
     ]
    }
   ],
   "source": [
    "print(even(23))\n",
    "print(even(24))"
   ]
  },
  {
   "cell_type": "markdown",
   "id": "b39f37f2",
   "metadata": {},
   "source": [
    "### Question 2"
   ]
  },
  {
   "cell_type": "markdown",
   "id": "16a75bb5",
   "metadata": {},
   "source": [
    "A lambda function in Python can have multiple arguments"
   ]
  },
  {
   "cell_type": "code",
   "execution_count": 5,
   "id": "f57254d5",
   "metadata": {},
   "outputs": [
    {
     "name": "stdout",
     "output_type": "stream",
     "text": [
      "5\n"
     ]
    }
   ],
   "source": [
    "add = lambda x,y:x+y\n",
    "print(add(2,3))"
   ]
  },
  {
   "cell_type": "markdown",
   "id": "fe771bc1",
   "metadata": {},
   "source": [
    "### Question 3"
   ]
  },
  {
   "cell_type": "markdown",
   "id": "07fd242c",
   "metadata": {},
   "source": [
    "Lambda functions can be used to provide additional functionalities to functions"
   ]
  },
  {
   "cell_type": "code",
   "execution_count": 7,
   "id": "eccd852b",
   "metadata": {},
   "outputs": [],
   "source": [
    "def power(n):\n",
    "    return lambda x:x**n\n",
    "square = power(2)\n",
    "cube = power(3)"
   ]
  },
  {
   "cell_type": "code",
   "execution_count": 8,
   "id": "cc671765",
   "metadata": {},
   "outputs": [
    {
     "data": {
      "text/plain": [
       "25"
      ]
     },
     "execution_count": 8,
     "metadata": {},
     "output_type": "execute_result"
    }
   ],
   "source": [
    "square(5)"
   ]
  },
  {
   "cell_type": "code",
   "execution_count": 9,
   "id": "ee976154",
   "metadata": {},
   "outputs": [
    {
     "data": {
      "text/plain": [
       "125"
      ]
     },
     "execution_count": 9,
     "metadata": {},
     "output_type": "execute_result"
    }
   ],
   "source": [
    "cube(5)"
   ]
  },
  {
   "cell_type": "markdown",
   "id": "1831ee27",
   "metadata": {},
   "source": [
    "### Question 4"
   ]
  },
  {
   "cell_type": "markdown",
   "id": "bf92638e",
   "metadata": {},
   "source": [
    "Advantages of lambda functions are:\n",
    "\n",
    "* Lambda functions can be used instead of regular functions in places where single-line expressions need to be used. \n",
    "* They do not require an explicit return statement as the value of the expression after evaluation is returned automatically."
   ]
  },
  {
   "cell_type": "markdown",
   "id": "70600f9d",
   "metadata": {},
   "source": [
    "Disadvantages of Lambda functions are:\n",
    "\n",
    "* Since they can have only a single output expression, they cannot be used for complex operations"
   ]
  },
  {
   "cell_type": "markdown",
   "id": "573bf8b3",
   "metadata": {},
   "source": [
    "### Question 5"
   ]
  },
  {
   "cell_type": "markdown",
   "id": "88e47009",
   "metadata": {},
   "source": [
    "Lambda functions can access the variables that are declared out of their scope"
   ]
  },
  {
   "cell_type": "code",
   "execution_count": 10,
   "id": "f2e1d6d1",
   "metadata": {},
   "outputs": [
    {
     "data": {
      "text/plain": [
       "12"
      ]
     },
     "execution_count": 10,
     "metadata": {},
     "output_type": "execute_result"
    }
   ],
   "source": [
    "a = 2\n",
    "func = lambda x:x+a\n",
    "func(10)"
   ]
  },
  {
   "cell_type": "markdown",
   "id": "9eee39c5",
   "metadata": {},
   "source": [
    "### Question 6"
   ]
  },
  {
   "cell_type": "code",
   "execution_count": 11,
   "id": "dfac948c",
   "metadata": {
    "scrolled": true
   },
   "outputs": [
    {
     "data": {
      "text/plain": [
       "36"
      ]
     },
     "execution_count": 11,
     "metadata": {},
     "output_type": "execute_result"
    }
   ],
   "source": [
    "square = lambda n:n**2\n",
    "square(6)"
   ]
  },
  {
   "cell_type": "markdown",
   "id": "25eab4c8",
   "metadata": {},
   "source": [
    "### Question 7"
   ]
  },
  {
   "cell_type": "code",
   "execution_count": 12,
   "id": "3a5eb14b",
   "metadata": {},
   "outputs": [
    {
     "data": {
      "text/plain": [
       "90"
      ]
     },
     "execution_count": 12,
     "metadata": {},
     "output_type": "execute_result"
    }
   ],
   "source": [
    "maximum = lambda lst:max(lst)\n",
    "lst = [2,3,90,-44,2,78,33,3]\n",
    "maximum(lst)"
   ]
  },
  {
   "cell_type": "markdown",
   "id": "b44ae49a",
   "metadata": {},
   "source": [
    "### Question 8"
   ]
  },
  {
   "cell_type": "code",
   "execution_count": 22,
   "id": "54409de6",
   "metadata": {},
   "outputs": [
    {
     "data": {
      "text/plain": [
       "[2, 4, 6, 8, 10, 12, 14]"
      ]
     },
     "execution_count": 22,
     "metadata": {},
     "output_type": "execute_result"
    }
   ],
   "source": [
    "lst = list(range(1,16))\n",
    "list(filter(lambda x:True if x%2==0 else False,lst))"
   ]
  },
  {
   "cell_type": "markdown",
   "id": "2b560cb8",
   "metadata": {},
   "source": [
    "### Question 9"
   ]
  },
  {
   "cell_type": "code",
   "execution_count": 23,
   "id": "a190d488",
   "metadata": {},
   "outputs": [],
   "source": [
    "lst = ['mangosteen','apple','banana','orange']\n",
    "lst.sort(key=lambda x:len(x))"
   ]
  },
  {
   "cell_type": "code",
   "execution_count": 24,
   "id": "84688f79",
   "metadata": {
    "scrolled": true
   },
   "outputs": [
    {
     "data": {
      "text/plain": [
       "['apple', 'banana', 'orange', 'mangosteen']"
      ]
     },
     "execution_count": 24,
     "metadata": {},
     "output_type": "execute_result"
    }
   ],
   "source": [
    "lst"
   ]
  },
  {
   "cell_type": "markdown",
   "id": "89fe9c3f",
   "metadata": {},
   "source": [
    "### Question 10"
   ]
  },
  {
   "cell_type": "code",
   "execution_count": 31,
   "id": "2bf22ed0",
   "metadata": {},
   "outputs": [],
   "source": [
    "import numpy as np\n",
    "lst1 = list(range(1,8))\n",
    "lst2 = list(range(15,6,-1))"
   ]
  },
  {
   "cell_type": "code",
   "execution_count": 46,
   "id": "298e8f8e",
   "metadata": {
    "scrolled": true
   },
   "outputs": [
    {
     "name": "stdout",
     "output_type": "stream",
     "text": [
      "[1, 2, 3, 4, 5, 6, 7]\n",
      "[15, 14, 13, 12, 11, 10, 9, 8, 7]\n"
     ]
    }
   ],
   "source": [
    "print(lst1)\n",
    "print(lst2)"
   ]
  },
  {
   "cell_type": "code",
   "execution_count": 47,
   "id": "3e3dac1e",
   "metadata": {},
   "outputs": [
    {
     "data": {
      "text/plain": [
       "[7]"
      ]
     },
     "execution_count": 47,
     "metadata": {},
     "output_type": "execute_result"
    }
   ],
   "source": [
    "common = lambda lst1,lst2:np.intersect1d(lst1,lst2)\n",
    "list(common(lst1,lst2))"
   ]
  },
  {
   "cell_type": "markdown",
   "id": "575a30dc",
   "metadata": {},
   "source": [
    "### Question 11"
   ]
  },
  {
   "cell_type": "code",
   "execution_count": 49,
   "id": "9996cd53",
   "metadata": {
    "scrolled": true
   },
   "outputs": [
    {
     "data": {
      "text/plain": [
       "120"
      ]
     },
     "execution_count": 49,
     "metadata": {},
     "output_type": "execute_result"
    }
   ],
   "source": [
    "def fact(n):\n",
    "    if n == 1:\n",
    "        return 1\n",
    "    else:\n",
    "        return n*fact(n-1)\n",
    "fact(5)"
   ]
  },
  {
   "cell_type": "markdown",
   "id": "72cfad2b",
   "metadata": {},
   "source": [
    "### Question 12"
   ]
  },
  {
   "cell_type": "code",
   "execution_count": 51,
   "id": "47068bd7",
   "metadata": {},
   "outputs": [],
   "source": [
    "def fib(n):\n",
    "    if n==1 or n==2:\n",
    "        return 1\n",
    "    else:\n",
    "        return fib(n-1)+fib(n-2)"
   ]
  },
  {
   "cell_type": "code",
   "execution_count": 57,
   "id": "ea5d734b",
   "metadata": {
    "scrolled": true
   },
   "outputs": [
    {
     "data": {
      "text/plain": [
       "55"
      ]
     },
     "execution_count": 57,
     "metadata": {},
     "output_type": "execute_result"
    }
   ],
   "source": [
    "fib(10)"
   ]
  },
  {
   "cell_type": "markdown",
   "id": "5b910f66",
   "metadata": {},
   "source": [
    "### Question 13"
   ]
  },
  {
   "cell_type": "code",
   "execution_count": 59,
   "id": "eea57d41",
   "metadata": {},
   "outputs": [],
   "source": [
    "import copy\n",
    "lst = list(range(1,16))\n",
    "copy_lst = copy.copy(lst)"
   ]
  },
  {
   "cell_type": "code",
   "execution_count": 60,
   "id": "026c719b",
   "metadata": {},
   "outputs": [],
   "source": [
    "def list_sum(lst):\n",
    "    if lst == []:\n",
    "        return 0\n",
    "    else:\n",
    "        return lst.pop()+list_sum(lst)"
   ]
  },
  {
   "cell_type": "code",
   "execution_count": 62,
   "id": "607938a7",
   "metadata": {},
   "outputs": [
    {
     "name": "stdout",
     "output_type": "stream",
     "text": [
      "[1, 2, 3, 4, 5, 6, 7, 8, 9, 10, 11, 12, 13, 14, 15]\n",
      "[1, 2, 3, 4, 5, 6, 7, 8, 9, 10, 11, 12, 13, 14, 15]\n"
     ]
    }
   ],
   "source": [
    "print(lst)\n",
    "print(copy_lst)"
   ]
  },
  {
   "cell_type": "code",
   "execution_count": 63,
   "id": "15520b8c",
   "metadata": {},
   "outputs": [
    {
     "data": {
      "text/plain": [
       "120"
      ]
     },
     "execution_count": 63,
     "metadata": {},
     "output_type": "execute_result"
    }
   ],
   "source": [
    "list_sum(copy_lst)"
   ]
  },
  {
   "cell_type": "code",
   "execution_count": 64,
   "id": "8aa8cb50",
   "metadata": {},
   "outputs": [
    {
     "name": "stdout",
     "output_type": "stream",
     "text": [
      "[1, 2, 3, 4, 5, 6, 7, 8, 9, 10, 11, 12, 13, 14, 15]\n",
      "[]\n"
     ]
    }
   ],
   "source": [
    "print(lst)\n",
    "print(copy_lst)"
   ]
  },
  {
   "cell_type": "markdown",
   "id": "6f6f186e",
   "metadata": {},
   "source": [
    "### Question 14"
   ]
  },
  {
   "cell_type": "code",
   "execution_count": 89,
   "id": "c8ec7797",
   "metadata": {},
   "outputs": [],
   "source": [
    "def palindrome(word,rev_word='',i=-1):\n",
    "    if i<-len(word):\n",
    "        if rev_word == word:\n",
    "            return True\n",
    "        else:\n",
    "            return False\n",
    "    else:\n",
    "        rev_word = rev_word + word[i]\n",
    "        i = i-1\n",
    "        return palindrome(word,rev_word,i)"
   ]
  },
  {
   "cell_type": "code",
   "execution_count": 90,
   "id": "d6592e7b",
   "metadata": {},
   "outputs": [
    {
     "data": {
      "text/plain": [
       "True"
      ]
     },
     "execution_count": 90,
     "metadata": {},
     "output_type": "execute_result"
    }
   ],
   "source": [
    "palindrome('malayalam')"
   ]
  },
  {
   "cell_type": "code",
   "execution_count": 91,
   "id": "f9a65e7b",
   "metadata": {},
   "outputs": [
    {
     "data": {
      "text/plain": [
       "False"
      ]
     },
     "execution_count": 91,
     "metadata": {},
     "output_type": "execute_result"
    }
   ],
   "source": [
    "palindrome('hindi')"
   ]
  },
  {
   "cell_type": "markdown",
   "id": "d4f7b0ae",
   "metadata": {},
   "source": [
    "### Question 15"
   ]
  },
  {
   "cell_type": "code",
   "execution_count": 92,
   "id": "6cccf7d1",
   "metadata": {},
   "outputs": [],
   "source": [
    "def gcd(num1,num2,hcf=-1):\n",
    "    if hcf==1:\n",
    "        return 1\n",
    "    else:\n",
    "        if hcf == -1:\n",
    "            hcf = min(num1,num2)  \n",
    "        if num1%hcf==0 and num2%hcf==0:\n",
    "            return hcf\n",
    "        else:\n",
    "            return gcd(num1,num2,hcf-1)"
   ]
  },
  {
   "cell_type": "code",
   "execution_count": 97,
   "id": "c2d31ac6",
   "metadata": {},
   "outputs": [
    {
     "data": {
      "text/plain": [
       "5"
      ]
     },
     "execution_count": 97,
     "metadata": {},
     "output_type": "execute_result"
    }
   ],
   "source": [
    "gcd(45,80)"
   ]
  },
  {
   "cell_type": "code",
   "execution_count": null,
   "id": "895b3ea8",
   "metadata": {},
   "outputs": [],
   "source": []
  }
 ],
 "metadata": {
  "kernelspec": {
   "display_name": "Python 3 (ipykernel)",
   "language": "python",
   "name": "python3"
  },
  "language_info": {
   "codemirror_mode": {
    "name": "ipython",
    "version": 3
   },
   "file_extension": ".py",
   "mimetype": "text/x-python",
   "name": "python",
   "nbconvert_exporter": "python",
   "pygments_lexer": "ipython3",
   "version": "3.10.9"
  }
 },
 "nbformat": 4,
 "nbformat_minor": 5
}
