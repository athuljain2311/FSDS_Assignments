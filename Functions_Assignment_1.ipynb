{
 "cells": [
  {
   "cell_type": "markdown",
   "id": "9b507856",
   "metadata": {},
   "source": [
    "### Question 1"
   ]
  },
  {
   "cell_type": "markdown",
   "id": "fba4a006",
   "metadata": {},
   "source": [
    "* Built-in functions are the pre-defined functions that are already present in Python's standard library\n",
    "\n",
    "* An example of such built-in function is the len() function which can be used to calculate the number of items in an object"
   ]
  },
  {
   "cell_type": "code",
   "execution_count": 1,
   "id": "6dd10d6d",
   "metadata": {},
   "outputs": [
    {
     "data": {
      "text/plain": [
       "5"
      ]
     },
     "execution_count": 1,
     "metadata": {},
     "output_type": "execute_result"
    }
   ],
   "source": [
    "fruit = \"apple\"\n",
    "len(fruit)"
   ]
  },
  {
   "cell_type": "markdown",
   "id": "4546c716",
   "metadata": {},
   "source": [
    "* A user-defined funcion, as the name states, is a function defined by the user. These are not predefined, but are defined by the user to perform a specific task"
   ]
  },
  {
   "cell_type": "code",
   "execution_count": 2,
   "id": "898234e8",
   "metadata": {},
   "outputs": [
    {
     "data": {
      "text/plain": [
       "8"
      ]
     },
     "execution_count": 2,
     "metadata": {},
     "output_type": "execute_result"
    }
   ],
   "source": [
    "def power(x,n):\n",
    "    return x**n\n",
    "power(2,3)"
   ]
  },
  {
   "cell_type": "markdown",
   "id": "14f3d4de",
   "metadata": {},
   "source": [
    "### Question 2"
   ]
  },
  {
   "cell_type": "markdown",
   "id": "ccfa4ae1",
   "metadata": {},
   "source": [
    "* Arguments can be passed to a function at the time of function call\n",
    "* There are two kinds of arguments 1. Positional Arguments 2. Keyword Arguments.\n",
    "* Positional arguments like the name states are dependent on the position or the order in which the arguments are passed in the function call\n",
    "* Keyword arguments are passed in the form of values initialised to variables, variables that are present in the function definition"
   ]
  },
  {
   "cell_type": "code",
   "execution_count": 7,
   "id": "90747bb4",
   "metadata": {},
   "outputs": [
    {
     "data": {
      "text/plain": [
       "8"
      ]
     },
     "execution_count": 7,
     "metadata": {},
     "output_type": "execute_result"
    }
   ],
   "source": [
    "def power(x,n):\n",
    "    return x**n\n",
    "power(2,3)"
   ]
  },
  {
   "cell_type": "code",
   "execution_count": 3,
   "id": "31af9309",
   "metadata": {
    "scrolled": true
   },
   "outputs": [
    {
     "data": {
      "text/plain": [
       "8"
      ]
     },
     "execution_count": 3,
     "metadata": {},
     "output_type": "execute_result"
    }
   ],
   "source": [
    "def power(*args):\n",
    "    return args[0]**args[1]\n",
    "power(2,3)"
   ]
  },
  {
   "cell_type": "code",
   "execution_count": 17,
   "id": "119f90cd",
   "metadata": {},
   "outputs": [
    {
     "data": {
      "text/plain": [
       "8"
      ]
     },
     "execution_count": 17,
     "metadata": {},
     "output_type": "execute_result"
    }
   ],
   "source": [
    "def power(x,n):\n",
    "    return x**n\n",
    "power(x=2,n=3)"
   ]
  },
  {
   "cell_type": "code",
   "execution_count": 13,
   "id": "70048cb9",
   "metadata": {},
   "outputs": [
    {
     "data": {
      "text/plain": [
       "8"
      ]
     },
     "execution_count": 13,
     "metadata": {},
     "output_type": "execute_result"
    }
   ],
   "source": [
    "def power(**kwargs):\n",
    "    return kwargs['x']**kwargs['n']\n",
    "power(x=2,n=3)"
   ]
  },
  {
   "cell_type": "markdown",
   "id": "bdb3a801",
   "metadata": {},
   "source": [
    "Example of how keyword arguments have to follow positional arguments"
   ]
  },
  {
   "cell_type": "code",
   "execution_count": 15,
   "id": "a43c0a6e",
   "metadata": {
    "scrolled": true
   },
   "outputs": [
    {
     "ename": "SyntaxError",
     "evalue": "positional argument follows keyword argument (2468180883.py, line 3)",
     "output_type": "error",
     "traceback": [
      "\u001b[1;36m  Cell \u001b[1;32mIn[15], line 3\u001b[1;36m\u001b[0m\n\u001b[1;33m    power(x=2,3)\u001b[0m\n\u001b[1;37m               ^\u001b[0m\n\u001b[1;31mSyntaxError\u001b[0m\u001b[1;31m:\u001b[0m positional argument follows keyword argument\n"
     ]
    }
   ],
   "source": [
    "def power(x,n):\n",
    "    return x**n\n",
    "power(x=2,3)"
   ]
  },
  {
   "cell_type": "code",
   "execution_count": 16,
   "id": "5256adb3",
   "metadata": {
    "scrolled": true
   },
   "outputs": [
    {
     "data": {
      "text/plain": [
       "8"
      ]
     },
     "execution_count": 16,
     "metadata": {},
     "output_type": "execute_result"
    }
   ],
   "source": [
    "def power(x,n):\n",
    "    return x**n\n",
    "power(2,n=3)"
   ]
  },
  {
   "cell_type": "markdown",
   "id": "d4942d40",
   "metadata": {},
   "source": [
    "### Question 3"
   ]
  },
  {
   "cell_type": "markdown",
   "id": "28af7fd5",
   "metadata": {},
   "source": [
    "* Like break and continue, return is another jump statement used to bring the control back from the function to the function call.\n",
    "\n",
    "*  A function can have only one return statement. Since the control goes back to the function call on encountering a return statement, anything after the return statement will not be executed."
   ]
  },
  {
   "cell_type": "code",
   "execution_count": 21,
   "id": "e1334ad0",
   "metadata": {},
   "outputs": [
    {
     "data": {
      "text/plain": [
       "8"
      ]
     },
     "execution_count": 21,
     "metadata": {},
     "output_type": "execute_result"
    }
   ],
   "source": [
    "def power(x,n):\n",
    "    return x**n\n",
    "    return n**x # This line of code will never get executed\n",
    "power(2,3)"
   ]
  },
  {
   "cell_type": "markdown",
   "id": "2f72f3db",
   "metadata": {},
   "source": [
    "### Question 4"
   ]
  },
  {
   "cell_type": "markdown",
   "id": "1ba8e128",
   "metadata": {},
   "source": [
    "* Lambda functions in Python are anonymous functions. They can have any number of arguments but only a single expression.\n",
    "\n",
    "* While normal functions are defined using the 'def' keyword, functions can be declared as"
   ]
  },
  {
   "cell_type": "markdown",
   "id": "9f484175",
   "metadata": {},
   "source": [
    "lambda argument(s):expression"
   ]
  },
  {
   "cell_type": "code",
   "execution_count": 25,
   "id": "293278e7",
   "metadata": {},
   "outputs": [],
   "source": [
    "even = lambda x: True if x/2==0 else False"
   ]
  },
  {
   "cell_type": "code",
   "execution_count": 26,
   "id": "e6028418",
   "metadata": {},
   "outputs": [
    {
     "data": {
      "text/plain": [
       "False"
      ]
     },
     "execution_count": 26,
     "metadata": {},
     "output_type": "execute_result"
    }
   ],
   "source": [
    "even(23)"
   ]
  },
  {
   "cell_type": "code",
   "execution_count": 27,
   "id": "16196ed4",
   "metadata": {},
   "outputs": [
    {
     "data": {
      "text/plain": [
       "False"
      ]
     },
     "execution_count": 27,
     "metadata": {},
     "output_type": "execute_result"
    }
   ],
   "source": [
    "even(50)"
   ]
  },
  {
   "cell_type": "markdown",
   "id": "3b10a28f",
   "metadata": {},
   "source": [
    "Lambda functions can be used with regular functions to provide additional functionalities"
   ]
  },
  {
   "cell_type": "code",
   "execution_count": 28,
   "id": "1317a3fc",
   "metadata": {},
   "outputs": [],
   "source": [
    "def power(n):\n",
    "    return lambda x:x**n"
   ]
  },
  {
   "cell_type": "code",
   "execution_count": 29,
   "id": "b198521e",
   "metadata": {},
   "outputs": [],
   "source": [
    "square = power(2)\n",
    "cube = power(3)"
   ]
  },
  {
   "cell_type": "code",
   "execution_count": 30,
   "id": "604988e8",
   "metadata": {},
   "outputs": [
    {
     "data": {
      "text/plain": [
       "25"
      ]
     },
     "execution_count": 30,
     "metadata": {},
     "output_type": "execute_result"
    }
   ],
   "source": [
    "square(5)"
   ]
  },
  {
   "cell_type": "code",
   "execution_count": 31,
   "id": "d0c1e55e",
   "metadata": {},
   "outputs": [
    {
     "data": {
      "text/plain": [
       "125"
      ]
     },
     "execution_count": 31,
     "metadata": {},
     "output_type": "execute_result"
    }
   ],
   "source": [
    "cube(5)"
   ]
  },
  {
   "cell_type": "markdown",
   "id": "018c9c81",
   "metadata": {},
   "source": [
    "### Question 5"
   ]
  },
  {
   "cell_type": "markdown",
   "id": "32a05e29",
   "metadata": {},
   "source": [
    "* The block within which a variable is declared is called it's scope.\n",
    "\n",
    "* The body of the function within which a variable is declared forms the local scope. The local variables can only be accessed within the local scope.\n",
    "\n",
    "* The outermost block of code in a program or the main body of a program forms the global scope. The variables declared in the global scope can be acessed from anywhere within the program."
   ]
  },
  {
   "cell_type": "code",
   "execution_count": 50,
   "id": "417b0ab9",
   "metadata": {},
   "outputs": [],
   "source": [
    "domain = '@ineuron.ai' # Global variable in the Global scope\n",
    "def email_generator(name):\n",
    "    first,last = name.split() # Local variables in the Local scope\n",
    "    return f\"{first.lower()}.{last.lower()}{domain}\""
   ]
  },
  {
   "cell_type": "code",
   "execution_count": 51,
   "id": "b95be32f",
   "metadata": {},
   "outputs": [
    {
     "data": {
      "text/plain": [
       "'athul.jain@ineuron.ai'"
      ]
     },
     "execution_count": 51,
     "metadata": {},
     "output_type": "execute_result"
    }
   ],
   "source": [
    "email_generator(\"Athul Jain\")"
   ]
  },
  {
   "cell_type": "markdown",
   "id": "8359bae1",
   "metadata": {},
   "source": [
    "### Question 6"
   ]
  },
  {
   "cell_type": "markdown",
   "id": "51651093",
   "metadata": {},
   "source": [
    "The multiple return values can be passed in the form of a tuple"
   ]
  },
  {
   "cell_type": "markdown",
   "id": "11800193",
   "metadata": {},
   "source": [
    "### Question 7"
   ]
  },
  {
   "cell_type": "markdown",
   "id": "f0d0f519",
   "metadata": {},
   "source": [
    "* Pass by reference : Whatever changes take place in the formal parameters, take place in the actual parameters and vice versa."
   ]
  },
  {
   "cell_type": "markdown",
   "id": "d4d9975f",
   "metadata": {},
   "source": [
    "An example of pass by reference."
   ]
  },
  {
   "cell_type": "code",
   "execution_count": 52,
   "id": "dcb7d9f1",
   "metadata": {},
   "outputs": [
    {
     "name": "stdout",
     "output_type": "stream",
     "text": [
      "[1, 2, 3, 4]\n"
     ]
    }
   ],
   "source": [
    "def func(lst):\n",
    "    lst.pop()\n",
    "lst = [1,2,3,4,5]\n",
    "func(lst)\n",
    "print(lst)"
   ]
  },
  {
   "cell_type": "markdown",
   "id": "42231db1",
   "metadata": {},
   "source": [
    "Here lst contains a reference to the actual list and not the list"
   ]
  },
  {
   "cell_type": "markdown",
   "id": "2bed5641",
   "metadata": {},
   "source": [
    "* Pass by value : The changes in the formal parameters (parameters in the function definition) do not reflect in the actual parameters"
   ]
  },
  {
   "cell_type": "markdown",
   "id": "c116c83a",
   "metadata": {},
   "source": [
    "An example of pass by value"
   ]
  },
  {
   "cell_type": "code",
   "execution_count": 53,
   "id": "53ead0d8",
   "metadata": {},
   "outputs": [
    {
     "data": {
      "text/plain": [
       "3"
      ]
     },
     "execution_count": 53,
     "metadata": {},
     "output_type": "execute_result"
    }
   ],
   "source": [
    "def func(x):\n",
    "    x = x+3\n",
    "x = 3\n",
    "func(x)\n",
    "x"
   ]
  },
  {
   "cell_type": "markdown",
   "id": "316e95c2",
   "metadata": {},
   "source": [
    "The value of x remains unchanged"
   ]
  },
  {
   "cell_type": "markdown",
   "id": "f90b046d",
   "metadata": {},
   "source": [
    "### Question 8"
   ]
  },
  {
   "cell_type": "code",
   "execution_count": 54,
   "id": "8e9cb39b",
   "metadata": {},
   "outputs": [],
   "source": [
    "import math"
   ]
  },
  {
   "cell_type": "code",
   "execution_count": 56,
   "id": "f035c9ae",
   "metadata": {},
   "outputs": [],
   "source": [
    "log_func = lambda x:math.log(x)"
   ]
  },
  {
   "cell_type": "code",
   "execution_count": 61,
   "id": "72068b87",
   "metadata": {},
   "outputs": [
    {
     "data": {
      "text/plain": [
       "2.302585092994046"
      ]
     },
     "execution_count": 61,
     "metadata": {},
     "output_type": "execute_result"
    }
   ],
   "source": [
    "log_func(10)"
   ]
  },
  {
   "cell_type": "code",
   "execution_count": 58,
   "id": "d27be9f7",
   "metadata": {},
   "outputs": [],
   "source": [
    "exp_func = lambda x:math.exp(x)"
   ]
  },
  {
   "cell_type": "code",
   "execution_count": 59,
   "id": "b63984ff",
   "metadata": {
    "scrolled": true
   },
   "outputs": [
    {
     "data": {
      "text/plain": [
       "2.718281828459045"
      ]
     },
     "execution_count": 59,
     "metadata": {},
     "output_type": "execute_result"
    }
   ],
   "source": [
    "exp_func(1)"
   ]
  },
  {
   "cell_type": "code",
   "execution_count": 66,
   "id": "d966ccef",
   "metadata": {},
   "outputs": [],
   "source": [
    "pow_func = lambda x:2**x"
   ]
  },
  {
   "cell_type": "code",
   "execution_count": 67,
   "id": "6a4a5792",
   "metadata": {
    "scrolled": true
   },
   "outputs": [
    {
     "data": {
      "text/plain": [
       "32"
      ]
     },
     "execution_count": 67,
     "metadata": {},
     "output_type": "execute_result"
    }
   ],
   "source": [
    "pow_func(5)"
   ]
  },
  {
   "cell_type": "code",
   "execution_count": 68,
   "id": "05a990fa",
   "metadata": {},
   "outputs": [],
   "source": [
    "sqrt_func = lambda x:math.sqrt(x)"
   ]
  },
  {
   "cell_type": "code",
   "execution_count": 69,
   "id": "508d54db",
   "metadata": {},
   "outputs": [
    {
     "data": {
      "text/plain": [
       "4.0"
      ]
     },
     "execution_count": 69,
     "metadata": {},
     "output_type": "execute_result"
    }
   ],
   "source": [
    "sqrt_func(16)"
   ]
  },
  {
   "cell_type": "markdown",
   "id": "ed0348da",
   "metadata": {},
   "source": [
    "### Question 9"
   ]
  },
  {
   "cell_type": "code",
   "execution_count": 36,
   "id": "786ed989",
   "metadata": {},
   "outputs": [],
   "source": [
    "def names(name):\n",
    "    first,last = name.split()\n",
    "    return first,last"
   ]
  },
  {
   "cell_type": "code",
   "execution_count": 45,
   "id": "b2b89345",
   "metadata": {},
   "outputs": [
    {
     "data": {
      "text/plain": [
       "'Athul,Jain'"
      ]
     },
     "execution_count": 45,
     "metadata": {},
     "output_type": "execute_result"
    }
   ],
   "source": [
    "first,last = names(\"Athul Jain\")\n",
    "\"{},{}\".format(first,last)"
   ]
  },
  {
   "cell_type": "code",
   "execution_count": 44,
   "id": "250b65c2",
   "metadata": {},
   "outputs": [
    {
     "data": {
      "text/plain": [
       "'Athul,Jain'"
      ]
     },
     "execution_count": 44,
     "metadata": {},
     "output_type": "execute_result"
    }
   ],
   "source": [
    "\"{},{}\".format(*names(\"Athul Jain\"))"
   ]
  }
 ],
 "metadata": {
  "kernelspec": {
   "display_name": "Python 3 (ipykernel)",
   "language": "python",
   "name": "python3"
  },
  "language_info": {
   "codemirror_mode": {
    "name": "ipython",
    "version": 3
   },
   "file_extension": ".py",
   "mimetype": "text/x-python",
   "name": "python",
   "nbconvert_exporter": "python",
   "pygments_lexer": "ipython3",
   "version": "3.10.9"
  }
 },
 "nbformat": 4,
 "nbformat_minor": 5
}
