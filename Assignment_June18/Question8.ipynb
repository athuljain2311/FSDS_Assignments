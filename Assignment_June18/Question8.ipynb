{
 "cells": [
  {
   "cell_type": "code",
   "execution_count": 1,
   "id": "ea954063",
   "metadata": {},
   "outputs": [],
   "source": [
    "import logging"
   ]
  },
  {
   "cell_type": "code",
   "execution_count": 2,
   "id": "3ccfd5ed",
   "metadata": {},
   "outputs": [],
   "source": [
    "file_handler = logging.FileHandler('question8.log')"
   ]
  },
  {
   "cell_type": "code",
   "execution_count": 11,
   "id": "e26254a0",
   "metadata": {},
   "outputs": [],
   "source": [
    "# SPECIFYING A DIFFERENT FORMAT TO DISTINGUISH\n",
    "formatter = logging.Formatter(\"%(levelname)s : %(name)s : %(message)s\")"
   ]
  },
  {
   "cell_type": "code",
   "execution_count": 4,
   "id": "4997675a",
   "metadata": {},
   "outputs": [],
   "source": [
    "file_handler.setFormatter(formatter)"
   ]
  },
  {
   "cell_type": "code",
   "execution_count": 8,
   "id": "0ebfde90",
   "metadata": {},
   "outputs": [],
   "source": [
    "logger = logging.getLogger('LoggerQ8')"
   ]
  },
  {
   "cell_type": "code",
   "execution_count": 6,
   "id": "1e8b8f7d",
   "metadata": {},
   "outputs": [],
   "source": [
    "logger.addHandler(file_handler)"
   ]
  },
  {
   "cell_type": "code",
   "execution_count": 9,
   "id": "6ab8b1e6",
   "metadata": {},
   "outputs": [],
   "source": [
    "logger.setLevel(logging.DEBUG)"
   ]
  },
  {
   "cell_type": "code",
   "execution_count": 10,
   "id": "015fe9cb",
   "metadata": {},
   "outputs": [],
   "source": [
    "logger.info('Logged from Question8 notebook')"
   ]
  },
  {
   "cell_type": "code",
   "execution_count": null,
   "id": "99ece1d3",
   "metadata": {},
   "outputs": [],
   "source": []
  }
 ],
 "metadata": {
  "kernelspec": {
   "display_name": "Python 3 (ipykernel)",
   "language": "python",
   "name": "python3"
  },
  "language_info": {
   "codemirror_mode": {
    "name": "ipython",
    "version": 3
   },
   "file_extension": ".py",
   "mimetype": "text/x-python",
   "name": "python",
   "nbconvert_exporter": "python",
   "pygments_lexer": "ipython3",
   "version": "3.10.9"
  }
 },
 "nbformat": 4,
 "nbformat_minor": 5
}
