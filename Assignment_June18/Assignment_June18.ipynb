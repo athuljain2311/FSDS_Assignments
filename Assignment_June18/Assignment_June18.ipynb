{
 "cells": [
  {
   "cell_type": "markdown",
   "id": "1140a197",
   "metadata": {},
   "source": [
    "### Question 1"
   ]
  },
  {
   "cell_type": "markdown",
   "id": "dbb16f6a",
   "metadata": {},
   "source": [
    "The code in the else block executes only when the code in the try block executes successfully"
   ]
  },
  {
   "cell_type": "code",
   "execution_count": 2,
   "id": "aad5ef7b",
   "metadata": {},
   "outputs": [
    {
     "name": "stdout",
     "output_type": "stream",
     "text": [
      "1.0\n",
      "This prints only when the code in the try block executes successfully\n"
     ]
    }
   ],
   "source": [
    "try:\n",
    "    print(1/1)\n",
    "except Exception as e:\n",
    "    print(e)\n",
    "else:\n",
    "    print('This prints only when the code in the try block executes successfully')"
   ]
  },
  {
   "cell_type": "markdown",
   "id": "830e6bfa",
   "metadata": {},
   "source": [
    "### Question 2"
   ]
  },
  {
   "cell_type": "markdown",
   "id": "20c151d1",
   "metadata": {},
   "source": [
    "try-except blocks can be nested within other try-except blocks"
   ]
  },
  {
   "cell_type": "code",
   "execution_count": 3,
   "id": "eaa5c0e4",
   "metadata": {},
   "outputs": [
    {
     "name": "stdout",
     "output_type": "stream",
     "text": [
      "outer try\n",
      "outer except\n",
      "print inner try\n",
      "inner except\n"
     ]
    }
   ],
   "source": [
    "try:\n",
    "    print('outer try')\n",
    "    print(1/0)\n",
    "except:\n",
    "    print('outer except')\n",
    "    try:\n",
    "        print('print inner try')\n",
    "        print(1/0)\n",
    "    except:\n",
    "        print('inner except')"
   ]
  },
  {
   "cell_type": "markdown",
   "id": "fa699001",
   "metadata": {},
   "source": [
    "### Question 3"
   ]
  },
  {
   "cell_type": "markdown",
   "id": "9fe2a2a2",
   "metadata": {},
   "source": [
    "Custom exception classes can be created by inheriting from the base Exception class"
   ]
  },
  {
   "cell_type": "code",
   "execution_count": 10,
   "id": "0ab6857d",
   "metadata": {},
   "outputs": [],
   "source": [
    "class VoteError(Exception):\n",
    "    def __init__(self,message):\n",
    "        self.message = message"
   ]
  },
  {
   "cell_type": "code",
   "execution_count": 12,
   "id": "8ce26be5",
   "metadata": {},
   "outputs": [
    {
     "name": "stdout",
     "output_type": "stream",
     "text": [
      "Enter voter's age : 17\n"
     ]
    },
    {
     "ename": "VoteError",
     "evalue": "Cannot vote, 17 less than 18",
     "output_type": "error",
     "traceback": [
      "\u001b[1;31m---------------------------------------------------------------------------\u001b[0m",
      "\u001b[1;31mVoteError\u001b[0m                                 Traceback (most recent call last)",
      "Cell \u001b[1;32mIn[12], line 3\u001b[0m\n\u001b[0;32m      1\u001b[0m age \u001b[38;5;241m=\u001b[39m \u001b[38;5;28mint\u001b[39m(\u001b[38;5;28minput\u001b[39m(\u001b[38;5;124m\"\u001b[39m\u001b[38;5;124mEnter voter\u001b[39m\u001b[38;5;124m'\u001b[39m\u001b[38;5;124ms age : \u001b[39m\u001b[38;5;124m\"\u001b[39m))\n\u001b[0;32m      2\u001b[0m \u001b[38;5;28;01mif\u001b[39;00m age \u001b[38;5;241m<\u001b[39m \u001b[38;5;241m18\u001b[39m:\n\u001b[1;32m----> 3\u001b[0m     \u001b[38;5;28;01mraise\u001b[39;00m VoteError(\u001b[38;5;124mf\u001b[39m\u001b[38;5;124m\"\u001b[39m\u001b[38;5;124mCannot vote, \u001b[39m\u001b[38;5;132;01m{\u001b[39;00mage\u001b[38;5;132;01m}\u001b[39;00m\u001b[38;5;124m less than 18\u001b[39m\u001b[38;5;124m\"\u001b[39m)\n\u001b[0;32m      4\u001b[0m \u001b[38;5;28;01melse\u001b[39;00m:\n\u001b[0;32m      5\u001b[0m     \u001b[38;5;28mprint\u001b[39m(\u001b[38;5;124m\"\u001b[39m\u001b[38;5;124mCan vote\u001b[39m\u001b[38;5;124m\"\u001b[39m)\n",
      "\u001b[1;31mVoteError\u001b[0m: Cannot vote, 17 less than 18"
     ]
    }
   ],
   "source": [
    "age = int(input(\"Enter voter's age : \"))\n",
    "if age < 18:\n",
    "    raise VoteError(f\"Cannot vote, {age} less than 18\")\n",
    "else:\n",
    "    print(\"Can vote\")"
   ]
  },
  {
   "cell_type": "code",
   "execution_count": 11,
   "id": "02f820d2",
   "metadata": {},
   "outputs": [
    {
     "name": "stdout",
     "output_type": "stream",
     "text": [
      "Enter voter's age : 17\n",
      "Cannot vote, 17 less than 18\n"
     ]
    }
   ],
   "source": [
    "try:\n",
    "    age = int(input(\"Enter voter's age : \"))\n",
    "    if age < 18:\n",
    "        raise VoteError(f\"Cannot vote, {age} less than 18\")\n",
    "    else:\n",
    "        print(\"Can vote\")\n",
    "except VoteError as e:\n",
    "    print(e)\n"
   ]
  },
  {
   "cell_type": "markdown",
   "id": "8d18e635",
   "metadata": {},
   "source": [
    "### Question 4"
   ]
  },
  {
   "cell_type": "markdown",
   "id": "2bc357cc",
   "metadata": {},
   "source": [
    "* ZeroDivisionError : Occurs when we try to divide a number by zero\n",
    "* IndexError : Occurs when the index of a sequence is out of range\n",
    "* NameError : Raised when a variable is not found in local or global scope"
   ]
  },
  {
   "cell_type": "markdown",
   "id": "ffbd2315",
   "metadata": {},
   "source": [
    "### Question 5"
   ]
  },
  {
   "cell_type": "markdown",
   "id": "0cbd36d7",
   "metadata": {},
   "source": [
    "* Logging in Python is done using the built-in 'logging' module\n",
    "* Logging helps us to keep track of the events that occur when a software runs"
   ]
  },
  {
   "cell_type": "markdown",
   "id": "3fae8278",
   "metadata": {},
   "source": [
    "### Question 6"
   ]
  },
  {
   "cell_type": "markdown",
   "id": "e68ac9d0",
   "metadata": {},
   "source": [
    "There are five built-in log levels:\n",
    "\n",
    "* DEBUG : Used to give detailed information, typically of interest only when diagnosing problems\n",
    "* INFO : Used to confirm that things are working as expected\n",
    "* WARNING : Used to indicate that something unexpected happened or will happen in the near future\n",
    "* ERROR : Used to indicate that the software has not been able to perform some operation due to a more serious problem\n",
    "* CRITICAL : Indicates some serious error due to which the program itself might stop"
   ]
  },
  {
   "cell_type": "code",
   "execution_count": 2,
   "id": "82722469",
   "metadata": {
    "scrolled": true
   },
   "outputs": [],
   "source": [
    "import logging"
   ]
  },
  {
   "cell_type": "code",
   "execution_count": 48,
   "id": "1b5dfe52",
   "metadata": {},
   "outputs": [],
   "source": [
    "logger1 = logging.getLogger(\"logger1\")\n",
    "logger1.setLevel(logging.DEBUG)"
   ]
  },
  {
   "cell_type": "code",
   "execution_count": 49,
   "id": "b90968b6",
   "metadata": {},
   "outputs": [
    {
     "name": "stderr",
     "output_type": "stream",
     "text": [
      "DEBUG:logger1:Debug message\n",
      "INFO:logger1:Just an information\n",
      "WARNING:logger1:This is a warning\n",
      "ERROR:logger1:Division by zero\n",
      "CRITICAL:logger1:Internet down\n"
     ]
    }
   ],
   "source": [
    "logger1.debug('Debug message')\n",
    "logger1.info('Just an information')\n",
    "logger1.warning('This is a warning')\n",
    "logger1.error('Division by zero')\n",
    "logger1.critical('Internet down')"
   ]
  },
  {
   "cell_type": "markdown",
   "id": "ca6b1a4d",
   "metadata": {},
   "source": [
    "### Question 7"
   ]
  },
  {
   "cell_type": "markdown",
   "id": "d985436a",
   "metadata": {},
   "source": [
    "Formatters can be used to format the log messages of a logger"
   ]
  },
  {
   "cell_type": "code",
   "execution_count": 43,
   "id": "6fe27652",
   "metadata": {},
   "outputs": [],
   "source": [
    "file_handler = logging.FileHandler('question7.log')"
   ]
  },
  {
   "cell_type": "code",
   "execution_count": 47,
   "id": "04534a14",
   "metadata": {},
   "outputs": [],
   "source": [
    "# SPECIFIES THE FORMAT IN WHICH WE WANT THE LOG MESSAGES\n",
    "formatter = logging.Formatter(\"%(asctime)s : %(levelname)s : %(name)s : %(message)s\")"
   ]
  },
  {
   "cell_type": "code",
   "execution_count": 44,
   "id": "498971e7",
   "metadata": {},
   "outputs": [],
   "source": [
    "file_handler.setFormatter(formatter)"
   ]
  },
  {
   "cell_type": "code",
   "execution_count": 45,
   "id": "eee5c6a0",
   "metadata": {},
   "outputs": [],
   "source": [
    "logger1.addHandler(file_handler)"
   ]
  },
  {
   "cell_type": "code",
   "execution_count": 46,
   "id": "6325134b",
   "metadata": {},
   "outputs": [
    {
     "name": "stderr",
     "output_type": "stream",
     "text": [
      "DEBUG:testLogger1:Debug message\n",
      "INFO:testLogger1:Just an information\n",
      "WARNING:testLogger1:This is a warning\n",
      "ERROR:testLogger1:Division by zero\n",
      "CRITICAL:testLogger1:Internet down\n"
     ]
    }
   ],
   "source": [
    "logger1.debug('Debug message')\n",
    "logger1.info('Just an information')\n",
    "logger1.warning('This is a warning')\n",
    "logger1.error('Division by zero')\n",
    "logger1.critical('Internet down')"
   ]
  },
  {
   "cell_type": "markdown",
   "id": "6f5cf8e5",
   "metadata": {},
   "source": [
    "### Question 8"
   ]
  },
  {
   "cell_type": "code",
   "execution_count": 50,
   "id": "5cda5c7e",
   "metadata": {},
   "outputs": [],
   "source": [
    "logger2 = logging.getLogger('logger2')"
   ]
  },
  {
   "cell_type": "code",
   "execution_count": 57,
   "id": "ddf0326a",
   "metadata": {},
   "outputs": [],
   "source": [
    "logger2.setLevel(logging.DEBUG)"
   ]
  },
  {
   "cell_type": "code",
   "execution_count": 51,
   "id": "34951225",
   "metadata": {},
   "outputs": [],
   "source": [
    "file_handler_2 = logging.FileHandler('question8.log')"
   ]
  },
  {
   "cell_type": "code",
   "execution_count": 52,
   "id": "3546135f",
   "metadata": {},
   "outputs": [],
   "source": [
    "formatter_2 = logging.Formatter(\"%(asctime)s : %(levelname)s : %(name)s : %(message)s\")"
   ]
  },
  {
   "cell_type": "code",
   "execution_count": 53,
   "id": "34c60d3f",
   "metadata": {},
   "outputs": [],
   "source": [
    "file_handler_2.setFormatter(formatter_2)"
   ]
  },
  {
   "cell_type": "code",
   "execution_count": 54,
   "id": "f2f3d8d9",
   "metadata": {},
   "outputs": [],
   "source": [
    "logger2.addHandler(file_handler_2)"
   ]
  },
  {
   "cell_type": "code",
   "execution_count": 58,
   "id": "c921fced",
   "metadata": {},
   "outputs": [
    {
     "name": "stderr",
     "output_type": "stream",
     "text": [
      "INFO:logger2:Logged from main notebook\n"
     ]
    }
   ],
   "source": [
    "logger2.info('Logged from main notebook')"
   ]
  },
  {
   "cell_type": "markdown",
   "id": "abb4b4f8",
   "metadata": {},
   "source": [
    "* To log to the same file from multiple modules, either the root logger can be used everywhere or if seperate loggers are being used, the logs can be logged to the same file"
   ]
  },
  {
   "cell_type": "markdown",
   "id": "45a2d9c9",
   "metadata": {},
   "source": [
    "### Question 9"
   ]
  },
  {
   "cell_type": "markdown",
   "id": "135b18c2",
   "metadata": {},
   "source": [
    "* The print() statement allows us to record the output only in the console\n",
    "* Using the logging module, we can keep track of events by recording them in a designated file, in specific format."
   ]
  },
  {
   "cell_type": "markdown",
   "id": "3b1fb25f",
   "metadata": {},
   "source": [
    "While a project is being scaled up or once it becomes complex, using print() statements to debug the code or to understand if the code is working the way it should be, can get cumbersome."
   ]
  },
  {
   "cell_type": "markdown",
   "id": "5c05152f",
   "metadata": {},
   "source": [
    "### Question 10"
   ]
  },
  {
   "cell_type": "code",
   "execution_count": 59,
   "id": "d433e98a",
   "metadata": {},
   "outputs": [],
   "source": [
    "logger_3 = logging.getLogger('logger_q10')\n",
    "logger_3.setLevel(logging.INFO)"
   ]
  },
  {
   "cell_type": "code",
   "execution_count": 60,
   "id": "a98820ba",
   "metadata": {},
   "outputs": [],
   "source": [
    "file_handler_3 = logging.FileHandler('app.log')"
   ]
  },
  {
   "cell_type": "code",
   "execution_count": 61,
   "id": "f5db9470",
   "metadata": {},
   "outputs": [],
   "source": [
    "formatter_3 = logging.Formatter('%(message)s')\n",
    "file_handler_3.setFormatter(formatter_3)"
   ]
  },
  {
   "cell_type": "code",
   "execution_count": 62,
   "id": "1b5e5ec9",
   "metadata": {},
   "outputs": [],
   "source": [
    "logger_3.addHandler(file_handler_3)"
   ]
  },
  {
   "cell_type": "code",
   "execution_count": 63,
   "id": "5ef7ad6a",
   "metadata": {},
   "outputs": [
    {
     "name": "stderr",
     "output_type": "stream",
     "text": [
      "INFO:logger_q10:Hello, World!\n"
     ]
    }
   ],
   "source": [
    "logger_3.info(\"Hello, World!\")"
   ]
  },
  {
   "cell_type": "markdown",
   "id": "54916de5",
   "metadata": {},
   "source": [
    "### Question 11"
   ]
  },
  {
   "cell_type": "code",
   "execution_count": 3,
   "id": "99a160f0",
   "metadata": {},
   "outputs": [],
   "source": [
    "logger_4 = logging.getLogger('logger_q11')\n",
    "logger_4.setLevel(logging.INFO)"
   ]
  },
  {
   "cell_type": "code",
   "execution_count": 4,
   "id": "154d18be",
   "metadata": {},
   "outputs": [],
   "source": [
    "file_handler_4 = logging.FileHandler('errors.log')"
   ]
  },
  {
   "cell_type": "code",
   "execution_count": 5,
   "id": "f5b3c90f",
   "metadata": {},
   "outputs": [],
   "source": [
    "formatter_4 = logging.Formatter('%(asctime)s : %(message)s')"
   ]
  },
  {
   "cell_type": "code",
   "execution_count": 6,
   "id": "d8745eef",
   "metadata": {},
   "outputs": [],
   "source": [
    "file_handler_4.setFormatter(formatter_4)"
   ]
  },
  {
   "cell_type": "code",
   "execution_count": 7,
   "id": "08b81d23",
   "metadata": {},
   "outputs": [],
   "source": [
    "stream_handler = logging.StreamHandler()\n",
    "stream_handler.setFormatter(formatter_4)"
   ]
  },
  {
   "cell_type": "code",
   "execution_count": 8,
   "id": "4aa4afcb",
   "metadata": {},
   "outputs": [],
   "source": [
    "logger_4.addHandler(file_handler_4)\n",
    "logger_4.addHandler(stream_handler)"
   ]
  },
  {
   "cell_type": "code",
   "execution_count": 9,
   "id": "52fb3e6a",
   "metadata": {},
   "outputs": [
    {
     "name": "stderr",
     "output_type": "stream",
     "text": [
      "2023-07-06 16:35:48,770 : division by zero\n"
     ]
    },
    {
     "name": "stdout",
     "output_type": "stream",
     "text": [
      "try block\n"
     ]
    }
   ],
   "source": [
    "try:\n",
    "    print('try block')\n",
    "    print(1/0)\n",
    "except Exception as e:\n",
    "    logger_4.error(e)"
   ]
  }
 ],
 "metadata": {
  "kernelspec": {
   "display_name": "Python 3 (ipykernel)",
   "language": "python",
   "name": "python3"
  },
  "language_info": {
   "codemirror_mode": {
    "name": "ipython",
    "version": 3
   },
   "file_extension": ".py",
   "mimetype": "text/x-python",
   "name": "python",
   "nbconvert_exporter": "python",
   "pygments_lexer": "ipython3",
   "version": "3.10.9"
  }
 },
 "nbformat": 4,
 "nbformat_minor": 5
}
