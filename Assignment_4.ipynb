{
 "cells": [
  {
   "cell_type": "markdown",
   "id": "cdcf8186",
   "metadata": {},
   "source": [
    "### Question 1"
   ]
  },
  {
   "cell_type": "raw",
   "id": "312fa04f",
   "metadata": {},
   "source": [
    "[] is an empty list. Same as list() which initializes a variable with an empty list."
   ]
  },
  {
   "cell_type": "code",
   "execution_count": 3,
   "id": "c4b8dc7a",
   "metadata": {},
   "outputs": [
    {
     "name": "stdout",
     "output_type": "stream",
     "text": [
      "[]\n"
     ]
    }
   ],
   "source": [
    "print(list())"
   ]
  },
  {
   "cell_type": "markdown",
   "id": "4b2f45ae",
   "metadata": {},
   "source": [
    "### Question 2"
   ]
  },
  {
   "cell_type": "code",
   "execution_count": 4,
   "id": "ee0814dc",
   "metadata": {
    "scrolled": true
   },
   "outputs": [
    {
     "data": {
      "text/plain": [
       "[2, 4, 'hello', 8, 10]"
      ]
     },
     "execution_count": 4,
     "metadata": {},
     "output_type": "execute_result"
    }
   ],
   "source": [
    "spam = [2,4,6,8,10]\n",
    "spam[2]='hello'\n",
    "spam"
   ]
  },
  {
   "cell_type": "markdown",
   "id": "8b24f0b6",
   "metadata": {},
   "source": [
    "### Question 3"
   ]
  },
  {
   "cell_type": "code",
   "execution_count": 5,
   "id": "dc73bb46",
   "metadata": {},
   "outputs": [
    {
     "data": {
      "text/plain": [
       "8"
      ]
     },
     "execution_count": 5,
     "metadata": {},
     "output_type": "execute_result"
    }
   ],
   "source": [
    "spam[int(int('3'*2)/11)]"
   ]
  },
  {
   "cell_type": "raw",
   "id": "27ecb122",
   "metadata": {},
   "source": [
    "The above expression produces the result 3"
   ]
  },
  {
   "cell_type": "markdown",
   "id": "2b2ca961",
   "metadata": {},
   "source": [
    "### Question 4"
   ]
  },
  {
   "cell_type": "code",
   "execution_count": 6,
   "id": "874489ca",
   "metadata": {},
   "outputs": [
    {
     "data": {
      "text/plain": [
       "10"
      ]
     },
     "execution_count": 6,
     "metadata": {},
     "output_type": "execute_result"
    }
   ],
   "source": [
    "spam[-1]"
   ]
  },
  {
   "cell_type": "raw",
   "id": "c06aae7b",
   "metadata": {},
   "source": [
    "Returns the last element in spam"
   ]
  },
  {
   "cell_type": "markdown",
   "id": "ae594b8a",
   "metadata": {},
   "source": [
    "### Question 5"
   ]
  },
  {
   "cell_type": "code",
   "execution_count": 8,
   "id": "e9e15633",
   "metadata": {},
   "outputs": [
    {
     "data": {
      "text/plain": [
       "[2, 4]"
      ]
     },
     "execution_count": 8,
     "metadata": {},
     "output_type": "execute_result"
    }
   ],
   "source": [
    "spam[:2]"
   ]
  },
  {
   "cell_type": "markdown",
   "id": "3d9e1e95",
   "metadata": {},
   "source": [
    "Returns all the elements in spam until the element at index 2"
   ]
  },
  {
   "cell_type": "markdown",
   "id": "e908c86e",
   "metadata": {},
   "source": [
    "### Question 6"
   ]
  },
  {
   "cell_type": "code",
   "execution_count": 9,
   "id": "d57744d8",
   "metadata": {},
   "outputs": [],
   "source": [
    "bacon = [3.14,'cat',11,'cat',True]"
   ]
  },
  {
   "cell_type": "code",
   "execution_count": 10,
   "id": "a7d9e44b",
   "metadata": {
    "scrolled": true
   },
   "outputs": [
    {
     "data": {
      "text/plain": [
       "1"
      ]
     },
     "execution_count": 10,
     "metadata": {},
     "output_type": "execute_result"
    }
   ],
   "source": [
    "bacon.index('cat')"
   ]
  },
  {
   "cell_type": "markdown",
   "id": "3e1921ca",
   "metadata": {},
   "source": [
    "### Question 7"
   ]
  },
  {
   "cell_type": "code",
   "execution_count": 11,
   "id": "072e579b",
   "metadata": {
    "scrolled": true
   },
   "outputs": [
    {
     "data": {
      "text/plain": [
       "[3.14, 'cat', 11, 'cat', True, 99]"
      ]
     },
     "execution_count": 11,
     "metadata": {},
     "output_type": "execute_result"
    }
   ],
   "source": [
    "bacon.append(99)\n",
    "bacon"
   ]
  },
  {
   "cell_type": "markdown",
   "id": "38e64674",
   "metadata": {},
   "source": [
    "### Question 8"
   ]
  },
  {
   "cell_type": "code",
   "execution_count": 12,
   "id": "5332b9b2",
   "metadata": {},
   "outputs": [],
   "source": [
    "bacon.remove('cat')"
   ]
  },
  {
   "cell_type": "code",
   "execution_count": 13,
   "id": "08561c67",
   "metadata": {},
   "outputs": [
    {
     "data": {
      "text/plain": [
       "[3.14, 11, 'cat', True, 99]"
      ]
     },
     "execution_count": 13,
     "metadata": {},
     "output_type": "execute_result"
    }
   ],
   "source": [
    "bacon"
   ]
  },
  {
   "cell_type": "raw",
   "id": "9ca6b2f5",
   "metadata": {},
   "source": [
    "The first occurance of 'cat' is removed"
   ]
  },
  {
   "cell_type": "markdown",
   "id": "bf0b6f20",
   "metadata": {},
   "source": [
    "### Question 9"
   ]
  },
  {
   "cell_type": "code",
   "execution_count": 14,
   "id": "ae129b75",
   "metadata": {},
   "outputs": [
    {
     "data": {
      "text/plain": [
       "[1, 2, 3, 4, 5, 6]"
      ]
     },
     "execution_count": 14,
     "metadata": {},
     "output_type": "execute_result"
    }
   ],
   "source": [
    "[1,2,3,4]+[5,6]"
   ]
  },
  {
   "cell_type": "raw",
   "id": "8e3cddf3",
   "metadata": {},
   "source": [
    "+ is the list concatenation operator"
   ]
  },
  {
   "cell_type": "code",
   "execution_count": 15,
   "id": "db4c55a4",
   "metadata": {},
   "outputs": [
    {
     "data": {
      "text/plain": [
       "[1, 2, 3, 4, 1, 2, 3, 4, 1, 2, 3, 4]"
      ]
     },
     "execution_count": 15,
     "metadata": {},
     "output_type": "execute_result"
    }
   ],
   "source": [
    "[1,2,3,4]*3"
   ]
  },
  {
   "cell_type": "raw",
   "id": "007a1d99",
   "metadata": {},
   "source": [
    "* is the list replication operator"
   ]
  },
  {
   "cell_type": "markdown",
   "id": "774a893c",
   "metadata": {},
   "source": [
    "### Question 10"
   ]
  },
  {
   "cell_type": "code",
   "execution_count": 16,
   "id": "aaae380b",
   "metadata": {},
   "outputs": [],
   "source": [
    "lst = [1,2,3,4,5]\n",
    "lst.append('apple')"
   ]
  },
  {
   "cell_type": "code",
   "execution_count": 17,
   "id": "d1d744c6",
   "metadata": {},
   "outputs": [
    {
     "data": {
      "text/plain": [
       "[1, 2, 3, 4, 5, 'apple']"
      ]
     },
     "execution_count": 17,
     "metadata": {},
     "output_type": "execute_result"
    }
   ],
   "source": [
    "lst"
   ]
  },
  {
   "cell_type": "code",
   "execution_count": 20,
   "id": "acd94a01",
   "metadata": {},
   "outputs": [],
   "source": [
    "lst.insert(-1,'orange')"
   ]
  },
  {
   "cell_type": "code",
   "execution_count": 21,
   "id": "c09c37f7",
   "metadata": {},
   "outputs": [
    {
     "data": {
      "text/plain": [
       "[1, 2, 3, 4, 5, 'orange', 'apple']"
      ]
     },
     "execution_count": 21,
     "metadata": {},
     "output_type": "execute_result"
    }
   ],
   "source": [
    "lst"
   ]
  },
  {
   "cell_type": "markdown",
   "id": "59d6d3d3",
   "metadata": {},
   "source": [
    "* append() method appends an element at the end of a list\n",
    "* insert() method inserts an element into a list before the specified index"
   ]
  },
  {
   "cell_type": "markdown",
   "id": "01e681a9",
   "metadata": {},
   "source": [
    "### Question 11"
   ]
  },
  {
   "cell_type": "code",
   "execution_count": 23,
   "id": "1fdff511",
   "metadata": {},
   "outputs": [
    {
     "data": {
      "text/plain": [
       "[1, 2, 3, 4, 'orange', 'apple']"
      ]
     },
     "execution_count": 23,
     "metadata": {},
     "output_type": "execute_result"
    }
   ],
   "source": [
    "lst.remove(5)\n",
    "lst"
   ]
  },
  {
   "cell_type": "markdown",
   "id": "666436c0",
   "metadata": {},
   "source": [
    "remove() method removes the first occurance of a value from a list"
   ]
  },
  {
   "cell_type": "code",
   "execution_count": 24,
   "id": "b1f3f40a",
   "metadata": {
    "scrolled": true
   },
   "outputs": [
    {
     "data": {
      "text/plain": [
       "[1, 2, 3, 4, 'orange']"
      ]
     },
     "execution_count": 24,
     "metadata": {},
     "output_type": "execute_result"
    }
   ],
   "source": [
    "lst.pop()\n",
    "lst"
   ]
  },
  {
   "cell_type": "markdown",
   "id": "9dd1254a",
   "metadata": {},
   "source": [
    "pop() method removes and returns the last element from a list"
   ]
  },
  {
   "cell_type": "markdown",
   "id": "7a19012a",
   "metadata": {},
   "source": [
    "### Question 12"
   ]
  },
  {
   "cell_type": "markdown",
   "id": "07bc0aae",
   "metadata": {},
   "source": [
    "Both lists and strings are iterable and follow the same system of indexing starting from zero"
   ]
  },
  {
   "cell_type": "markdown",
   "id": "cd3fa62e",
   "metadata": {},
   "source": [
    "### Question 13"
   ]
  },
  {
   "cell_type": "markdown",
   "id": "d9b9029b",
   "metadata": {},
   "source": [
    "Tuples are immutable whereas as lists are mutable"
   ]
  },
  {
   "cell_type": "markdown",
   "id": "936edf62",
   "metadata": {},
   "source": [
    "### Question 14"
   ]
  },
  {
   "cell_type": "code",
   "execution_count": 26,
   "id": "062bb236",
   "metadata": {},
   "outputs": [
    {
     "data": {
      "text/plain": [
       "(42,)"
      ]
     },
     "execution_count": 26,
     "metadata": {},
     "output_type": "execute_result"
    }
   ],
   "source": [
    "(42,) # One tuple"
   ]
  },
  {
   "cell_type": "markdown",
   "id": "62dfbb8e",
   "metadata": {},
   "source": [
    "### Question 15"
   ]
  },
  {
   "cell_type": "code",
   "execution_count": 27,
   "id": "f8bb8e95",
   "metadata": {},
   "outputs": [],
   "source": [
    "lst = [1,2,3,4,5]"
   ]
  },
  {
   "cell_type": "code",
   "execution_count": 29,
   "id": "744a6223",
   "metadata": {},
   "outputs": [
    {
     "data": {
      "text/plain": [
       "(1, 2, 3, 4, 5)"
      ]
     },
     "execution_count": 29,
     "metadata": {},
     "output_type": "execute_result"
    }
   ],
   "source": [
    "tup = tuple(lst)\n",
    "tup"
   ]
  },
  {
   "cell_type": "code",
   "execution_count": 30,
   "id": "e864ce7e",
   "metadata": {},
   "outputs": [
    {
     "data": {
      "text/plain": [
       "[1, 2, 3, 4, 5]"
      ]
     },
     "execution_count": 30,
     "metadata": {},
     "output_type": "execute_result"
    }
   ],
   "source": [
    "list(tup)"
   ]
  },
  {
   "cell_type": "markdown",
   "id": "e802d432",
   "metadata": {},
   "source": [
    "### Question 16"
   ]
  },
  {
   "cell_type": "markdown",
   "id": "31449759",
   "metadata": {},
   "source": [
    "The variable will contain a reference to the list"
   ]
  },
  {
   "cell_type": "markdown",
   "id": "14b17d92",
   "metadata": {},
   "source": [
    "### Question 17"
   ]
  },
  {
   "cell_type": "raw",
   "id": "d17e2d5d",
   "metadata": {},
   "source": [
    "copy.copy() - produces a shallow copy\n",
    "copy.deepcopy() - produces a deep copy\n",
    "\n",
    "For example"
   ]
  },
  {
   "cell_type": "code",
   "execution_count": 32,
   "id": "5b50b36e",
   "metadata": {},
   "outputs": [
    {
     "name": "stdout",
     "output_type": "stream",
     "text": [
      "[[1, 2, 3], [4, 5, 6]]\n",
      "[[1, 2, 3], [4, 5, 6]]\n"
     ]
    }
   ],
   "source": [
    "import copy\n",
    "old_list = [[1,2,3],[4,5,6]]\n",
    "new_list = copy.copy(old_list)\n",
    "print(old_list)\n",
    "print(new_list)"
   ]
  },
  {
   "cell_type": "raw",
   "id": "381e1f4f",
   "metadata": {},
   "source": [
    "copy.copy() is not recursive, that is it does not create copies of the nested objects, but stores the references of original objects in a copy of the object within which they are nested."
   ]
  },
  {
   "cell_type": "code",
   "execution_count": 33,
   "id": "f51bc76c",
   "metadata": {},
   "outputs": [],
   "source": [
    "old_list.append([7,8,9])"
   ]
  },
  {
   "cell_type": "code",
   "execution_count": 34,
   "id": "b0830c75",
   "metadata": {},
   "outputs": [
    {
     "name": "stdout",
     "output_type": "stream",
     "text": [
      "[[1, 2, 3], [4, 5, 6], [7, 8, 9]]\n",
      "[[1, 2, 3], [4, 5, 6]]\n"
     ]
    }
   ],
   "source": [
    "print(old_list)\n",
    "print(new_list)"
   ]
  },
  {
   "cell_type": "code",
   "execution_count": 35,
   "id": "0bbb5dd9",
   "metadata": {},
   "outputs": [
    {
     "name": "stdout",
     "output_type": "stream",
     "text": [
      "[['apple', 2, 3], [4, 5, 6], [7, 8, 9]]\n",
      "[['apple', 2, 3], [4, 5, 6]]\n"
     ]
    }
   ],
   "source": [
    "old_list[0][0] = 'apple'\n",
    "print(old_list)\n",
    "print(new_list)"
   ]
  },
  {
   "cell_type": "raw",
   "id": "a0059c4d",
   "metadata": {},
   "source": [
    "copy.deepcopy() - produces a deep copy, that is, it is recursive and produces copies of the object and all the objects nested within it"
   ]
  },
  {
   "cell_type": "code",
   "execution_count": 36,
   "id": "baa00c57",
   "metadata": {},
   "outputs": [],
   "source": [
    "old_list = [[1,2,3],[4,5,6]]\n",
    "new_list = copy.deepcopy(old_list)"
   ]
  },
  {
   "cell_type": "code",
   "execution_count": 37,
   "id": "3e9d141b",
   "metadata": {},
   "outputs": [
    {
     "name": "stdout",
     "output_type": "stream",
     "text": [
      "[[1, 2, 3], [4, 5, 6], [7, 8, 9]]\n",
      "[[1, 2, 3], [4, 5, 6]]\n"
     ]
    }
   ],
   "source": [
    "old_list.append([7,8,9])\n",
    "print(old_list)\n",
    "print(new_list)"
   ]
  },
  {
   "cell_type": "code",
   "execution_count": 38,
   "id": "d7eb4419",
   "metadata": {},
   "outputs": [
    {
     "name": "stdout",
     "output_type": "stream",
     "text": [
      "[['apple', 2, 3], [4, 5, 6], [7, 8, 9]]\n",
      "[[1, 2, 3], [4, 5, 6]]\n"
     ]
    }
   ],
   "source": [
    "old_list[0][0] = 'apple'\n",
    "print(old_list)\n",
    "print(new_list)"
   ]
  },
  {
   "cell_type": "code",
   "execution_count": null,
   "id": "cf0530e2",
   "metadata": {},
   "outputs": [],
   "source": []
  }
 ],
 "metadata": {
  "kernelspec": {
   "display_name": "Python 3 (ipykernel)",
   "language": "python",
   "name": "python3"
  },
  "language_info": {
   "codemirror_mode": {
    "name": "ipython",
    "version": 3
   },
   "file_extension": ".py",
   "mimetype": "text/x-python",
   "name": "python",
   "nbconvert_exporter": "python",
   "pygments_lexer": "ipython3",
   "version": "3.10.9"
  }
 },
 "nbformat": 4,
 "nbformat_minor": 5
}
