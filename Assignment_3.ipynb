{
 "cells": [
  {
   "cell_type": "markdown",
   "id": "36423a37",
   "metadata": {},
   "source": [
    "### Question 1"
   ]
  },
  {
   "cell_type": "markdown",
   "id": "08a4f111",
   "metadata": {},
   "source": [
    "Functions can be used to avoid repeating a piece of code. In other words, functions make the code reusable"
   ]
  },
  {
   "cell_type": "markdown",
   "id": "108fe0b3",
   "metadata": {},
   "source": [
    "### Question 2"
   ]
  },
  {
   "cell_type": "markdown",
   "id": "4a3cfad8",
   "metadata": {},
   "source": [
    "The code within a function runs when it is called"
   ]
  },
  {
   "cell_type": "markdown",
   "id": "f7c21ba7",
   "metadata": {},
   "source": [
    "### Question 3"
   ]
  },
  {
   "cell_type": "markdown",
   "id": "916e1470",
   "metadata": {},
   "source": [
    "The 'def' keyword is used to define a function"
   ]
  },
  {
   "cell_type": "markdown",
   "id": "bdf3f57f",
   "metadata": {},
   "source": [
    "### Question 4"
   ]
  },
  {
   "cell_type": "markdown",
   "id": "372a1b40",
   "metadata": {},
   "source": [
    "* A function is a block of code that performs a specific task.\n",
    "* It consists of a function definition which in turn has a function name, parameters and a body.\n",
    "* A function call is what triggers a function.\n",
    "\n",
    "Example :"
   ]
  },
  {
   "cell_type": "code",
   "execution_count": 2,
   "id": "f38d9f9a",
   "metadata": {},
   "outputs": [
    {
     "name": "stdout",
     "output_type": "stream",
     "text": [
      "11\n"
     ]
    }
   ],
   "source": [
    "def add(a): # Function definition\n",
    "    print(a+5)\n",
    "add(6) # Function call"
   ]
  },
  {
   "cell_type": "markdown",
   "id": "05a0989b",
   "metadata": {},
   "source": [
    "### Question 5"
   ]
  },
  {
   "cell_type": "markdown",
   "id": "1d263b28",
   "metadata": {},
   "source": [
    "A Python program has only one Global scope and can have multiple local scopes"
   ]
  },
  {
   "cell_type": "markdown",
   "id": "3e3d6e53",
   "metadata": {},
   "source": [
    "### Question 6"
   ]
  },
  {
   "cell_type": "markdown",
   "id": "ffdd76b8",
   "metadata": {},
   "source": [
    "The local variables are destroyed when the function call returns"
   ]
  },
  {
   "cell_type": "markdown",
   "id": "8156973a",
   "metadata": {},
   "source": [
    "### Question 7"
   ]
  },
  {
   "cell_type": "markdown",
   "id": "32249f62",
   "metadata": {},
   "source": [
    "Like break and continue, return is a jump statement that takes the control back to the function call"
   ]
  },
  {
   "cell_type": "markdown",
   "id": "a138f9a7",
   "metadata": {},
   "source": [
    "A return statement can have an expression"
   ]
  },
  {
   "cell_type": "code",
   "execution_count": 3,
   "id": "c5dfaf9f",
   "metadata": {},
   "outputs": [
    {
     "name": "stdout",
     "output_type": "stream",
     "text": [
      "11\n"
     ]
    }
   ],
   "source": [
    "def add(a):\n",
    "    return a+5\n",
    "print(add(6))"
   ]
  },
  {
   "cell_type": "markdown",
   "id": "edc8dd47",
   "metadata": {},
   "source": [
    "### Question 8"
   ]
  },
  {
   "cell_type": "markdown",
   "id": "6abfe173",
   "metadata": {},
   "source": [
    "If a function does not have a return statement, the return value will be of None type"
   ]
  },
  {
   "cell_type": "code",
   "execution_count": 4,
   "id": "1b1a34a5",
   "metadata": {},
   "outputs": [
    {
     "name": "stdout",
     "output_type": "stream",
     "text": [
      "11\n",
      "<class 'NoneType'>\n"
     ]
    }
   ],
   "source": [
    "def add(a):\n",
    "    print(a+5)\n",
    "print(type(add(6)))"
   ]
  },
  {
   "cell_type": "markdown",
   "id": "b3d5e274",
   "metadata": {},
   "source": [
    "### Question 9"
   ]
  },
  {
   "cell_type": "code",
   "execution_count": 7,
   "id": "18ca99a5",
   "metadata": {},
   "outputs": [
    {
     "name": "stdout",
     "output_type": "stream",
     "text": [
      "Updated a : 16\n",
      "Updated a : 23\n",
      "Updated a : 31\n"
     ]
    }
   ],
   "source": [
    "a = 10\n",
    "def add(b):\n",
    "    global a\n",
    "    a = a + b\n",
    "    print(f\"Updated a : {a}\")\n",
    "add(6)\n",
    "add(7)\n",
    "add(8)"
   ]
  },
  {
   "cell_type": "markdown",
   "id": "aafd0809",
   "metadata": {},
   "source": [
    "By using the keyword global"
   ]
  },
  {
   "cell_type": "markdown",
   "id": "81e3ba0e",
   "metadata": {},
   "source": [
    "### Question 10"
   ]
  },
  {
   "cell_type": "code",
   "execution_count": 8,
   "id": "b8f2414d",
   "metadata": {},
   "outputs": [
    {
     "data": {
      "text/plain": [
       "NoneType"
      ]
     },
     "execution_count": 8,
     "metadata": {},
     "output_type": "execute_result"
    }
   ],
   "source": [
    "type(None)"
   ]
  },
  {
   "cell_type": "markdown",
   "id": "e210dc60",
   "metadata": {},
   "source": [
    "### Question 11"
   ]
  },
  {
   "cell_type": "markdown",
   "id": "71c7fc08",
   "metadata": {},
   "source": [
    "The statment\n",
    "import areallyourpetsnamederic\n",
    "imports areallyourpetsnamederic to our program"
   ]
  },
  {
   "cell_type": "markdown",
   "id": "87f1a326",
   "metadata": {},
   "source": [
    "### Question 12"
   ]
  },
  {
   "cell_type": "markdown",
   "id": "142a56bf",
   "metadata": {},
   "source": [
    "spam.bacon()"
   ]
  },
  {
   "cell_type": "markdown",
   "id": "3a3bb300",
   "metadata": {},
   "source": [
    "### Question 13"
   ]
  },
  {
   "cell_type": "markdown",
   "id": "314b1fa1",
   "metadata": {},
   "source": [
    "The piece of code that is susceptible to crashing can be enclosed in a try block and the exception can be handled"
   ]
  },
  {
   "cell_type": "markdown",
   "id": "a4124cd1",
   "metadata": {},
   "source": [
    "### Question 14"
   ]
  },
  {
   "cell_type": "markdown",
   "id": "3f8dd3ff",
   "metadata": {},
   "source": [
    "* try and except blocks are used to handle exceptions in Python.\n",
    "\n",
    "* The piece of code that can raise an exception can be wrapped with the try block and except block can be used to handle the exception.\n",
    "\n",
    "* If no exceptions are raised within the try block, the except block will be skipped. If an exception is raised within a try block, it can be handled in except block."
   ]
  },
  {
   "cell_type": "code",
   "execution_count": null,
   "id": "f705b68b",
   "metadata": {},
   "outputs": [],
   "source": []
  }
 ],
 "metadata": {
  "kernelspec": {
   "display_name": "Python 3 (ipykernel)",
   "language": "python",
   "name": "python3"
  },
  "language_info": {
   "codemirror_mode": {
    "name": "ipython",
    "version": 3
   },
   "file_extension": ".py",
   "mimetype": "text/x-python",
   "name": "python",
   "nbconvert_exporter": "python",
   "pygments_lexer": "ipython3",
   "version": "3.10.9"
  }
 },
 "nbformat": 4,
 "nbformat_minor": 5
}
