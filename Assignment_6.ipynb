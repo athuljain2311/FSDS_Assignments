{
 "cells": [
  {
   "cell_type": "markdown",
   "id": "e7c44112",
   "metadata": {},
   "source": [
    "### Question 1"
   ]
  },
  {
   "cell_type": "code",
   "execution_count": 1,
   "id": "f6bf9915",
   "metadata": {},
   "outputs": [
    {
     "name": "stdout",
     "output_type": "stream",
     "text": [
      "['False', 'None', 'True', 'and', 'as', 'assert', 'async', 'await', 'break', 'class', 'continue', 'def', 'del', 'elif', 'else', 'except', 'finally', 'for', 'from', 'global', 'if', 'import', 'in', 'is', 'lambda', 'nonlocal', 'not', 'or', 'pass', 'raise', 'return', 'try', 'while', 'with', 'yield']\n"
     ]
    }
   ],
   "source": [
    "import keyword\n",
    "print(keyword.kwlist)"
   ]
  },
  {
   "cell_type": "raw",
   "id": "fd84a551",
   "metadata": {},
   "source": [
    "Keywords are the reserved words that convey a special meaning to the interpreter"
   ]
  },
  {
   "cell_type": "markdown",
   "id": "0f95fa36",
   "metadata": {},
   "source": [
    "### Question 2"
   ]
  },
  {
   "cell_type": "raw",
   "id": "1a282a55",
   "metadata": {},
   "source": [
    "A variable name can only begin with alphabets or underscore\n",
    "Variable names are case sensitive\n",
    "Variable names cannot start with a number\n",
    "Variables names can contain alphanumeric characters and underscores"
   ]
  },
  {
   "cell_type": "markdown",
   "id": "66ce22e8",
   "metadata": {},
   "source": [
    "### Question 3"
   ]
  },
  {
   "cell_type": "raw",
   "id": "d663c7f3",
   "metadata": {},
   "source": [
    "Variable names should be lowercase, with words separated by underscores as necessary to improve readability."
   ]
  },
  {
   "cell_type": "markdown",
   "id": "3325b75b",
   "metadata": {},
   "source": [
    "### Question 4"
   ]
  },
  {
   "cell_type": "code",
   "execution_count": 4,
   "id": "9e76a11c",
   "metadata": {},
   "outputs": [
    {
     "ename": "SyntaxError",
     "evalue": "invalid syntax (705052717.py, line 1)",
     "output_type": "error",
     "traceback": [
      "\u001b[1;36m  Cell \u001b[1;32mIn[4], line 1\u001b[1;36m\u001b[0m\n\u001b[1;33m    return = 5\u001b[0m\n\u001b[1;37m           ^\u001b[0m\n\u001b[1;31mSyntaxError\u001b[0m\u001b[1;31m:\u001b[0m invalid syntax\n"
     ]
    }
   ],
   "source": [
    "return = 5"
   ]
  },
  {
   "cell_type": "raw",
   "id": "5547f430",
   "metadata": {},
   "source": [
    "The statement will throw a syntax error"
   ]
  },
  {
   "cell_type": "markdown",
   "id": "3f0d8da5",
   "metadata": {},
   "source": [
    "### Question 5"
   ]
  },
  {
   "cell_type": "raw",
   "id": "52647e83",
   "metadata": {},
   "source": [
    "'def' keyword is used to define a function"
   ]
  },
  {
   "cell_type": "markdown",
   "id": "6d2af8f5",
   "metadata": {},
   "source": [
    "### Question 6"
   ]
  },
  {
   "cell_type": "raw",
   "id": "075d76e7",
   "metadata": {},
   "source": [
    "Backslash(\\) is used to represent special characters in Python.\n",
    "Some characters cannot be typed in directly through the keyboard, such characters are represented by a backslash followed by a character."
   ]
  },
  {
   "cell_type": "markdown",
   "id": "5c81f1ce",
   "metadata": {},
   "source": [
    "### Question 7"
   ]
  },
  {
   "cell_type": "code",
   "execution_count": 22,
   "id": "2dfa4319",
   "metadata": {},
   "outputs": [
    {
     "data": {
      "text/plain": [
       "[1, 2, 3, 4, 5]"
      ]
     },
     "execution_count": 22,
     "metadata": {},
     "output_type": "execute_result"
    }
   ],
   "source": [
    "[1,2,3,4,5] # Homogeneous list"
   ]
  },
  {
   "cell_type": "code",
   "execution_count": 23,
   "id": "6f262642",
   "metadata": {},
   "outputs": [
    {
     "data": {
      "text/plain": [
       "{1.5, True, 'apple'}"
      ]
     },
     "execution_count": 23,
     "metadata": {},
     "output_type": "execute_result"
    }
   ],
   "source": [
    "{'apple',1.5,True} # Heterogeneous set"
   ]
  },
  {
   "cell_type": "code",
   "execution_count": 25,
   "id": "a007e12b",
   "metadata": {},
   "outputs": [
    {
     "data": {
      "text/plain": [
       "('apple', 'orange', 'grape')"
      ]
     },
     "execution_count": 25,
     "metadata": {},
     "output_type": "execute_result"
    }
   ],
   "source": [
    "('apple','orange','grape') # Homogeneous tuple"
   ]
  },
  {
   "cell_type": "markdown",
   "id": "71adcef0",
   "metadata": {},
   "source": [
    "### Question 8"
   ]
  },
  {
   "cell_type": "raw",
   "id": "ae4f707d",
   "metadata": {},
   "source": [
    "Dictionaries and Lists are examples of Mutable Datatypes.\n",
    "Mutable datatypes are those whose values can be changed."
   ]
  },
  {
   "cell_type": "code",
   "execution_count": 15,
   "id": "5816aa3f",
   "metadata": {},
   "outputs": [],
   "source": [
    "d = {'fruit':'apple'}\n",
    "l = ['apple','orange','mango']\n",
    "d['fruit'] = l[1] = 'grape'"
   ]
  },
  {
   "cell_type": "code",
   "execution_count": 16,
   "id": "bb8924d9",
   "metadata": {},
   "outputs": [
    {
     "data": {
      "text/plain": [
       "{'fruit': 'grape'}"
      ]
     },
     "execution_count": 16,
     "metadata": {},
     "output_type": "execute_result"
    }
   ],
   "source": [
    "d"
   ]
  },
  {
   "cell_type": "code",
   "execution_count": 17,
   "id": "90e2a9b1",
   "metadata": {},
   "outputs": [
    {
     "data": {
      "text/plain": [
       "['apple', 'grape', 'mango']"
      ]
     },
     "execution_count": 17,
     "metadata": {},
     "output_type": "execute_result"
    }
   ],
   "source": [
    "l"
   ]
  },
  {
   "cell_type": "raw",
   "id": "dd7bda74",
   "metadata": {},
   "source": [
    "Tuples and Strings are examples of Immutable Datatypes.\n",
    "Immutable datatypes are those whose values cannot be changed."
   ]
  },
  {
   "cell_type": "code",
   "execution_count": 18,
   "id": "ab784411",
   "metadata": {},
   "outputs": [],
   "source": [
    "tup = ('apple','orange','mango')"
   ]
  },
  {
   "cell_type": "code",
   "execution_count": 19,
   "id": "d9cb35a3",
   "metadata": {
    "scrolled": true
   },
   "outputs": [
    {
     "ename": "TypeError",
     "evalue": "'tuple' object does not support item assignment",
     "output_type": "error",
     "traceback": [
      "\u001b[1;31m---------------------------------------------------------------------------\u001b[0m",
      "\u001b[1;31mTypeError\u001b[0m                                 Traceback (most recent call last)",
      "Cell \u001b[1;32mIn[19], line 1\u001b[0m\n\u001b[1;32m----> 1\u001b[0m tup[\u001b[38;5;241m1\u001b[39m] \u001b[38;5;241m=\u001b[39m \u001b[38;5;124m'\u001b[39m\u001b[38;5;124mgrape\u001b[39m\u001b[38;5;124m'\u001b[39m\n",
      "\u001b[1;31mTypeError\u001b[0m: 'tuple' object does not support item assignment"
     ]
    }
   ],
   "source": [
    "tup[1] = 'grape'"
   ]
  },
  {
   "cell_type": "code",
   "execution_count": 20,
   "id": "4974b1a1",
   "metadata": {},
   "outputs": [],
   "source": [
    "fruit = 'apple'"
   ]
  },
  {
   "cell_type": "code",
   "execution_count": 21,
   "id": "7ef46cb1",
   "metadata": {},
   "outputs": [
    {
     "ename": "TypeError",
     "evalue": "'str' object does not support item assignment",
     "output_type": "error",
     "traceback": [
      "\u001b[1;31m---------------------------------------------------------------------------\u001b[0m",
      "\u001b[1;31mTypeError\u001b[0m                                 Traceback (most recent call last)",
      "Cell \u001b[1;32mIn[21], line 1\u001b[0m\n\u001b[1;32m----> 1\u001b[0m fruit[\u001b[38;5;241m1\u001b[39m] \u001b[38;5;241m=\u001b[39m \u001b[38;5;124m'\u001b[39m\u001b[38;5;124mb\u001b[39m\u001b[38;5;124m'\u001b[39m\n",
      "\u001b[1;31mTypeError\u001b[0m: 'str' object does not support item assignment"
     ]
    }
   ],
   "source": [
    "fruit[1] = 'b'"
   ]
  },
  {
   "cell_type": "markdown",
   "id": "b22f05fb",
   "metadata": {},
   "source": [
    "### Question 9"
   ]
  },
  {
   "cell_type": "code",
   "execution_count": 11,
   "id": "bfb33483",
   "metadata": {
    "scrolled": true
   },
   "outputs": [
    {
     "name": "stdout",
     "output_type": "stream",
     "text": [
      "     *     \n",
      "    ***    \n",
      "   *****   \n",
      "  *******  \n",
      " ********* \n"
     ]
    }
   ],
   "source": [
    "n = 5\n",
    "for i in range(1,2*n,2):\n",
    "    spaces = ((2*n-1)-i)//2\n",
    "    print(' '*spaces,'*'*i,' '*spaces)"
   ]
  },
  {
   "cell_type": "markdown",
   "id": "5c618d49",
   "metadata": {},
   "source": [
    "### Question 10"
   ]
  },
  {
   "cell_type": "code",
   "execution_count": 14,
   "id": "3e96103f",
   "metadata": {},
   "outputs": [
    {
     "name": "stdout",
     "output_type": "stream",
     "text": [
      " ||||||||| \n",
      "  |||||||  \n",
      "   |||||   \n",
      "    |||    \n",
      "     |     \n"
     ]
    }
   ],
   "source": [
    "n = 5\n",
    "i,tot = n,2*n-1\n",
    "while i>=1:\n",
    "    chars = (2*i-1)\n",
    "    spaces = (tot-chars)//2\n",
    "    print(' '*spaces,'|'*chars,' '*spaces)\n",
    "    i-=1"
   ]
  }
 ],
 "metadata": {
  "kernelspec": {
   "display_name": "Python 3 (ipykernel)",
   "language": "python",
   "name": "python3"
  },
  "language_info": {
   "codemirror_mode": {
    "name": "ipython",
    "version": 3
   },
   "file_extension": ".py",
   "mimetype": "text/x-python",
   "name": "python",
   "nbconvert_exporter": "python",
   "pygments_lexer": "ipython3",
   "version": "3.10.9"
  }
 },
 "nbformat": 4,
 "nbformat_minor": 5
}
