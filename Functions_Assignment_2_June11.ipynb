{
 "cells": [
  {
   "cell_type": "markdown",
   "id": "a187028d",
   "metadata": {},
   "source": [
    "### Question 1"
   ]
  },
  {
   "cell_type": "markdown",
   "id": "952807da",
   "metadata": {},
   "source": [
    "* Lambda functions are anonymous functions\n",
    "* They can have any number of arguments and one expression that evaluates the arguments\n",
    "* Lambda funcions are defined using the key word 'lambda' whereas the normal functions are defined using the keyword 'def'"
   ]
  },
  {
   "cell_type": "code",
   "execution_count": 3,
   "id": "d8f851b7",
   "metadata": {},
   "outputs": [],
   "source": [
    "even = lambda x:True if x%2==0 else False"
   ]
  },
  {
   "cell_type": "code",
   "execution_count": 4,
   "id": "3bea9188",
   "metadata": {},
   "outputs": [
    {
     "name": "stdout",
     "output_type": "stream",
     "text": [
      "False\n",
      "True\n"
     ]
    }
   ],
   "source": [
    "print(even(23))\n",
    "print(even(24))"
   ]
  },
  {
   "cell_type": "code",
   "execution_count": null,
   "id": "ef17ba1f",
   "metadata": {},
   "outputs": [],
   "source": []
  }
 ],
 "metadata": {
  "kernelspec": {
   "display_name": "Python 3 (ipykernel)",
   "language": "python",
   "name": "python3"
  },
  "language_info": {
   "codemirror_mode": {
    "name": "ipython",
    "version": 3
   },
   "file_extension": ".py",
   "mimetype": "text/x-python",
   "name": "python",
   "nbconvert_exporter": "python",
   "pygments_lexer": "ipython3",
   "version": "3.10.9"
  }
 },
 "nbformat": 4,
 "nbformat_minor": 5
}
