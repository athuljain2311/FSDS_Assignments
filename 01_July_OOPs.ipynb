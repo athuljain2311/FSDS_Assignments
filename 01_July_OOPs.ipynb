{
 "cells": [
  {
   "cell_type": "markdown",
   "id": "5e6b709a",
   "metadata": {},
   "source": [
    "### Question 1"
   ]
  },
  {
   "cell_type": "markdown",
   "id": "8d0ac67c",
   "metadata": {},
   "source": [
    "* An Object Orient Programming language is based on classes and objects.\n",
    "* The entire program runs by having multiple objects that interact with each other to create large programs.\n",
    "* Holding data in objects makes it easy to pass the data to other methods and objects, this also enhances reusablity\n",
    "* Robustness, reusability and adaptability are the key goals of OOP"
   ]
  },
  {
   "cell_type": "markdown",
   "id": "5f0bb31f",
   "metadata": {},
   "source": [
    "### Question 2"
   ]
  },
  {
   "cell_type": "markdown",
   "id": "b1a8fbff",
   "metadata": {},
   "source": [
    "An object is an instance of a class, having specific characteristics and behaviour"
   ]
  },
  {
   "cell_type": "markdown",
   "id": "ebc51da4",
   "metadata": {},
   "source": [
    "### Question 3"
   ]
  },
  {
   "cell_type": "markdown",
   "id": "e47dd2cd",
   "metadata": {},
   "source": [
    "A class is the template to make an object, or it is the object making factory."
   ]
  },
  {
   "cell_type": "markdown",
   "id": "f35f301c",
   "metadata": {},
   "source": [
    "### Question 4"
   ]
  },
  {
   "cell_type": "markdown",
   "id": "4361c13b",
   "metadata": {},
   "source": [
    "* Class attributes are the attributes that belong to the class rather than the objects of the class (These are declared within the class).\n",
    "* Class methods are the functions that are defined within the class (They are bound to the class)"
   ]
  },
  {
   "cell_type": "markdown",
   "id": "2d820df2",
   "metadata": {},
   "source": [
    "### Question 5"
   ]
  },
  {
   "cell_type": "markdown",
   "id": "ac985a47",
   "metadata": {},
   "source": [
    "* Class variables are used to store data that is shared among all the instances of a class\n",
    "* Instance variables are used to store data that is unique to each instance of a class"
   ]
  },
  {
   "cell_type": "markdown",
   "id": "1bdafbaa",
   "metadata": {},
   "source": [
    "### Question 6"
   ]
  },
  {
   "cell_type": "markdown",
   "id": "c6504e04",
   "metadata": {},
   "source": [
    "The 'self' parameter holds the reference to the objects from which the class methods are being called"
   ]
  },
  {
   "cell_type": "markdown",
   "id": "b0370667",
   "metadata": {},
   "source": [
    "### Question 7"
   ]
  },
  {
   "cell_type": "code",
   "execution_count": 3,
   "id": "d380dece",
   "metadata": {},
   "outputs": [],
   "source": [
    "class Book:\n",
    "    \n",
    "    title = 'Python ABCs'\n",
    "    author = 'Athul Jain'\n",
    "    isbn = 123456789012\n",
    "    publication_year = 2022\n",
    "    available_copies = 100\n",
    "    \n",
    "    def check_out(self):\n",
    "        self.available_copies = self.available_copies-1\n",
    "        \n",
    "    def return_book(self):\n",
    "        self.available_copies = self.available_copies+1\n",
    "        \n",
    "    def display_book_info(self):\n",
    "        print(f\"Title : {self.title}\")\n",
    "        print(f\"Author : {self.author}\")\n",
    "        print(f\"ISBN : {self.isbn}\")\n",
    "        print(f\"Publication Year : {self.publication_year}\")\n",
    "        print(f\"Available Copies : {self.available_copies}\")"
   ]
  },
  {
   "cell_type": "code",
   "execution_count": 4,
   "id": "3216aadb",
   "metadata": {},
   "outputs": [],
   "source": [
    "book = Book()"
   ]
  },
  {
   "cell_type": "code",
   "execution_count": 5,
   "id": "b5c2a37c",
   "metadata": {},
   "outputs": [],
   "source": [
    "book.check_out()"
   ]
  },
  {
   "cell_type": "code",
   "execution_count": 6,
   "id": "136bff8f",
   "metadata": {},
   "outputs": [
    {
     "name": "stdout",
     "output_type": "stream",
     "text": [
      "Title : Python ABCs\n",
      "Author : Athul Jain\n",
      "ISBN : 123456789012\n",
      "Publication Year : 2022\n",
      "Available Copies : 99\n"
     ]
    }
   ],
   "source": [
    "book.display_book_info()"
   ]
  },
  {
   "cell_type": "code",
   "execution_count": 7,
   "id": "2ffad2f7",
   "metadata": {},
   "outputs": [],
   "source": [
    "book.check_out()"
   ]
  },
  {
   "cell_type": "code",
   "execution_count": 8,
   "id": "2c87b100",
   "metadata": {},
   "outputs": [
    {
     "name": "stdout",
     "output_type": "stream",
     "text": [
      "Title : Python ABCs\n",
      "Author : Athul Jain\n",
      "ISBN : 123456789012\n",
      "Publication Year : 2022\n",
      "Available Copies : 98\n"
     ]
    }
   ],
   "source": [
    "book.display_book_info()"
   ]
  },
  {
   "cell_type": "code",
   "execution_count": 9,
   "id": "5ebba165",
   "metadata": {},
   "outputs": [],
   "source": [
    "book.return_book()"
   ]
  },
  {
   "cell_type": "code",
   "execution_count": 10,
   "id": "4bd90522",
   "metadata": {},
   "outputs": [
    {
     "name": "stdout",
     "output_type": "stream",
     "text": [
      "Title : Python ABCs\n",
      "Author : Athul Jain\n",
      "ISBN : 123456789012\n",
      "Publication Year : 2022\n",
      "Available Copies : 99\n"
     ]
    }
   ],
   "source": [
    "book.display_book_info()"
   ]
  },
  {
   "cell_type": "markdown",
   "id": "f4c2bb3a",
   "metadata": {},
   "source": [
    "### Question 8"
   ]
  },
  {
   "cell_type": "code",
   "execution_count": 21,
   "id": "1d42d860",
   "metadata": {},
   "outputs": [],
   "source": [
    "class Ticket:\n",
    "    ticket_id = 'ABC123'\n",
    "    event_name = 'PyCon'\n",
    "    event_date = '07/07/2023'\n",
    "    venue = 'Bengaluru'\n",
    "    seat_number = 60\n",
    "    price = 800\n",
    "    is_reserved = False\n",
    "    \n",
    "    def reserve_ticket(self):\n",
    "        if not self.is_reserved:\n",
    "            self.is_reserved = True\n",
    "    \n",
    "    def cancel_reservation(self):\n",
    "        if self.is_reserved:\n",
    "            self.is_reserved = False\n",
    "            \n",
    "    def display_ticket_info(self):\n",
    "        print(f\"Ticket ID : {self.ticket_id}\")\n",
    "        print(f\"Event Name : {self.event_name}\")\n",
    "        print(f\"Event Date : {self.event_date}\")\n",
    "        print(f\"Venue : {self.venue}\")\n",
    "        print(f\"Seat Number : {self.seat_number}\")\n",
    "        print(f\"Price : {self.price}\")\n",
    "        print(f\"Reserved : {self.is_reserved}\")"
   ]
  },
  {
   "cell_type": "code",
   "execution_count": 22,
   "id": "e93e39bd",
   "metadata": {},
   "outputs": [],
   "source": [
    "ticket = Ticket()"
   ]
  },
  {
   "cell_type": "code",
   "execution_count": 23,
   "id": "1daaf1d7",
   "metadata": {},
   "outputs": [
    {
     "name": "stdout",
     "output_type": "stream",
     "text": [
      "Ticket ID : ABC123\n",
      "Event Name : PyCon\n",
      "Event Date : 07/07/2023\n",
      "Venue : Bengaluru\n",
      "Seat Number : 60\n",
      "Price : 800\n",
      "Reserved : False\n"
     ]
    }
   ],
   "source": [
    "ticket.display_ticket_info()"
   ]
  },
  {
   "cell_type": "code",
   "execution_count": 24,
   "id": "fccf9183",
   "metadata": {},
   "outputs": [],
   "source": [
    "ticket.reserve_ticket()"
   ]
  },
  {
   "cell_type": "code",
   "execution_count": 25,
   "id": "de81ce2d",
   "metadata": {},
   "outputs": [
    {
     "name": "stdout",
     "output_type": "stream",
     "text": [
      "Ticket ID : ABC123\n",
      "Event Name : PyCon\n",
      "Event Date : 07/07/2023\n",
      "Venue : Bengaluru\n",
      "Seat Number : 60\n",
      "Price : 800\n",
      "Reserved : True\n"
     ]
    }
   ],
   "source": [
    "ticket.display_ticket_info()"
   ]
  },
  {
   "cell_type": "code",
   "execution_count": 26,
   "id": "bc4a6fb9",
   "metadata": {},
   "outputs": [],
   "source": [
    "ticket.cancel_reservation()"
   ]
  },
  {
   "cell_type": "code",
   "execution_count": 27,
   "id": "0942ba17",
   "metadata": {},
   "outputs": [
    {
     "name": "stdout",
     "output_type": "stream",
     "text": [
      "Ticket ID : ABC123\n",
      "Event Name : PyCon\n",
      "Event Date : 07/07/2023\n",
      "Venue : Bengaluru\n",
      "Seat Number : 60\n",
      "Price : 800\n",
      "Reserved : False\n"
     ]
    }
   ],
   "source": [
    "ticket.display_ticket_info()"
   ]
  },
  {
   "cell_type": "markdown",
   "id": "26c3dfd7",
   "metadata": {},
   "source": [
    "### Question 9"
   ]
  },
  {
   "cell_type": "code",
   "execution_count": 28,
   "id": "257bec08",
   "metadata": {},
   "outputs": [],
   "source": [
    "class ShoppingCart:\n",
    "    items = ['apple','orange','banana']\n",
    "    \n",
    "    def add_item(self,item):\n",
    "        self.items.append(item)\n",
    "        \n",
    "    def remove_item(self,item):\n",
    "        self.items.remove(item)\n",
    "        \n",
    "    def view_cart(self):\n",
    "        print(f\"{' '.join(self.items)}\")\n",
    "        \n",
    "    def clear_cart(self):\n",
    "        self.items = []"
   ]
  },
  {
   "cell_type": "code",
   "execution_count": 29,
   "id": "a2cf0d75",
   "metadata": {},
   "outputs": [],
   "source": [
    "cart = ShoppingCart()"
   ]
  },
  {
   "cell_type": "code",
   "execution_count": 30,
   "id": "c9c55f88",
   "metadata": {},
   "outputs": [
    {
     "name": "stdout",
     "output_type": "stream",
     "text": [
      "apple orange banana\n"
     ]
    }
   ],
   "source": [
    "cart.view_cart()"
   ]
  },
  {
   "cell_type": "code",
   "execution_count": 31,
   "id": "d08b3ba0",
   "metadata": {},
   "outputs": [
    {
     "name": "stdout",
     "output_type": "stream",
     "text": [
      "apple orange\n"
     ]
    }
   ],
   "source": [
    "cart.remove_item('banana')\n",
    "cart.view_cart()"
   ]
  },
  {
   "cell_type": "code",
   "execution_count": 32,
   "id": "5a6e966c",
   "metadata": {},
   "outputs": [
    {
     "name": "stdout",
     "output_type": "stream",
     "text": [
      "apple orange strawberry\n"
     ]
    }
   ],
   "source": [
    "cart.add_item('strawberry')\n",
    "cart.view_cart()"
   ]
  },
  {
   "cell_type": "code",
   "execution_count": 33,
   "id": "100a9f64",
   "metadata": {},
   "outputs": [
    {
     "name": "stdout",
     "output_type": "stream",
     "text": [
      "\n"
     ]
    }
   ],
   "source": [
    "cart.clear_cart()\n",
    "cart.view_cart()"
   ]
  },
  {
   "cell_type": "markdown",
   "id": "305d23b8",
   "metadata": {},
   "source": [
    "### Question 10"
   ]
  },
  {
   "cell_type": "code",
   "execution_count": 41,
   "id": "26c7e8e2",
   "metadata": {},
   "outputs": [],
   "source": [
    "class Student:\n",
    "    name = \"Athul Jain\"\n",
    "    age = 18\n",
    "    grade = 12\n",
    "    student_id = 'ABC123'\n",
    "    attendance = {1:1,2:1,3:0,4:1,5:0,6:1,7:1}\n",
    "    \n",
    "    def update_attendance(self,date,status):\n",
    "        if status == 'present':\n",
    "            self.attendance[date] = 1\n",
    "        else:\n",
    "            self.attendance[date] = 0\n",
    "    \n",
    "    def get_attendance(self):\n",
    "        for k,v in self.attendance.items():\n",
    "            if v == 1:\n",
    "                print(f\"{k} - present\")\n",
    "            else:\n",
    "                print(f\"{k} - absent\")\n",
    "    \n",
    "    def get_average_attendance(self):\n",
    "        avg = (sum(self.attendance.values())/len(self.attendance))*100\n",
    "        return f\"Average attendance : {avg:.2f}\""
   ]
  },
  {
   "cell_type": "code",
   "execution_count": 42,
   "id": "73b7ea99",
   "metadata": {},
   "outputs": [],
   "source": [
    "student = Student()"
   ]
  },
  {
   "cell_type": "code",
   "execution_count": 43,
   "id": "0f997aa1",
   "metadata": {},
   "outputs": [
    {
     "data": {
      "text/plain": [
       "'Average attendance : 71.43'"
      ]
     },
     "execution_count": 43,
     "metadata": {},
     "output_type": "execute_result"
    }
   ],
   "source": [
    "student.get_average_attendance()"
   ]
  },
  {
   "cell_type": "code",
   "execution_count": 44,
   "id": "a5e4d0e4",
   "metadata": {},
   "outputs": [
    {
     "name": "stdout",
     "output_type": "stream",
     "text": [
      "1 - present\n",
      "2 - present\n",
      "3 - absent\n",
      "4 - present\n",
      "5 - absent\n",
      "6 - present\n",
      "7 - present\n"
     ]
    }
   ],
   "source": [
    "student.get_attendance()"
   ]
  },
  {
   "cell_type": "code",
   "execution_count": 45,
   "id": "6f12ee8b",
   "metadata": {},
   "outputs": [],
   "source": [
    "student.update_attendance(4,'absent')"
   ]
  },
  {
   "cell_type": "code",
   "execution_count": 46,
   "id": "e02af220",
   "metadata": {},
   "outputs": [
    {
     "name": "stdout",
     "output_type": "stream",
     "text": [
      "1 - present\n",
      "2 - present\n",
      "3 - absent\n",
      "4 - absent\n",
      "5 - absent\n",
      "6 - present\n",
      "7 - present\n"
     ]
    }
   ],
   "source": [
    "student.get_attendance()"
   ]
  },
  {
   "cell_type": "code",
   "execution_count": 47,
   "id": "5c41465e",
   "metadata": {},
   "outputs": [
    {
     "data": {
      "text/plain": [
       "'Average attendance : 57.14'"
      ]
     },
     "execution_count": 47,
     "metadata": {},
     "output_type": "execute_result"
    }
   ],
   "source": [
    "student.get_average_attendance()"
   ]
  },
  {
   "cell_type": "code",
   "execution_count": null,
   "id": "ece45f81",
   "metadata": {},
   "outputs": [],
   "source": []
  }
 ],
 "metadata": {
  "kernelspec": {
   "display_name": "Python 3 (ipykernel)",
   "language": "python",
   "name": "python3"
  },
  "language_info": {
   "codemirror_mode": {
    "name": "ipython",
    "version": 3
   },
   "file_extension": ".py",
   "mimetype": "text/x-python",
   "name": "python",
   "nbconvert_exporter": "python",
   "pygments_lexer": "ipython3",
   "version": "3.10.9"
  }
 },
 "nbformat": 4,
 "nbformat_minor": 5
}
